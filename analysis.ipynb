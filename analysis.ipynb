{
 "cells": [
  {
   "cell_type": "markdown",
   "metadata": {},
   "source": [
    "# i. Perkenalan"
   ]
  },
  {
   "cell_type": "markdown",
   "metadata": {},
   "source": [
    "```\n",
    "========================================================================================================================================================================================\n",
    "Nama        : Ferryansa\n",
    "Dataset     : https://www.kaggle.com/datasets/waqi786/remote-work-and-mental-health\n",
    "Dashboard   : - https://public.tableau.com/app/profile/ferryansa./viz/M1_ferryansa/Dashboard1?publish=yes\n",
    "              - https://public.tableau.com/views/M1_ferryansa/Dashboard1?:language=en-US&publish=yes&:sid=&:redirect=auth&:display_count=n&:origin=viz_share_link\n",
    "\n",
    "Notebook ini dibuat untuk memberikan rekomendasi yang bisa diterapkan bagi banyak perusahaan untuk mengurangi isolasi sosial dan meningkatkan kesejahteraan mental pekerja, sehingga perusahaan dapat lebih proaktif dalam mendukung pekerja yang bekerja secara remote.\n",
    "========================================================================================================================================================================================\n",
    "```"
   ]
  },
  {
   "cell_type": "markdown",
   "metadata": {},
   "source": [
    "# ii. Identifikasi Masalah"
   ]
  },
  {
   "cell_type": "markdown",
   "metadata": {},
   "source": [
    "## A. Topik Permasalahan"
   ]
  },
  {
   "cell_type": "markdown",
   "metadata": {},
   "source": [
    "Pengaruh Work From Home terhadap Kesehatan Mental dan Produktivitas Pekerja"
   ]
  },
  {
   "cell_type": "markdown",
   "metadata": {},
   "source": [
    "## B. Latar Belakang"
   ]
  },
  {
   "cell_type": "markdown",
   "metadata": {},
   "source": [
    "Sejak COVID-19 lalu, kerja remote menjadi pilihan utama di banyak perusahaan agar operasional tetap berjalan. Walaupun memberikan fleksibilitas dan efisiensi, kerja remote juga menimbulkan tantangannya sendiri, khususnya dalam hal penyakit mental dan isu isolasi sosial. Berkurangnya interaksi secara langsung menyebabkan tidak adanya intimasi antara pekerja, yang pada akhirnya berdampak negatif terhadap kelangsungan mental. Kondisi ini berpotensi menurunkan produktivitas, meningkatkan stress, dan memperburuk kondisi kesehatan mental para pekerja.\n",
    "\n",
    "Di dalam data ini, terdapat faktor-faktor yang mungkin mempengaruhi tingkat isolasi sosial dan kesehatan mental pekerja. Oleh karena itu perlu dilakukannya analisis secara mendalam, guna memahami pengaruh isolasi sosial yang ditimbulkan dari kerja remote serta dampaknya pada kesehatan mental para pekerja, supaya kedepannya perusahaan yang menerapkan konsep kerja remote seperti ini bisa menciptakan lingkungan kerja yang lebih nyaman dan suportif."
   ]
  },
  {
   "cell_type": "markdown",
   "metadata": {},
   "source": [
    "## C. SMART Framework"
   ]
  },
  {
   "cell_type": "markdown",
   "metadata": {},
   "source": [
    "1. Spesific\n",
    "    > Melakukan correlation analysis antara work-life balance, kesehatan mental, produktivitas, dan kepuasan remote work pada para pekerja dari berbagai industri dan lokasi. Berfokus pada pengaruh jam kerja, lokasi kerja, dukungan perusahaan, dan akses terhadap sumber daya kesehatan mental terhadap work-life balance dan performa dari pekerja.\n",
    "\n",
    "2. Measurable\n",
    "    > Pengukuran akan dilakukan berdasarkan data dari variabel terkait seperti `Work-Life Balance Rating`, `Stress Level`, `Mental Health Condition`, `Productivity Change`, dan `Satisfaction with Remote Work` yang tersedia dalam dataset.\n",
    "\n",
    "3. Achievable\n",
    "    > Penelitian ini bisa dicapai dengan menggunakan data yang ada dan metodologi statistik untuk mengidentifikasi dan menganalisis hubungan antar variabel serta pola dan tren yang terjadi. Hasil analisis ini diharapkan bisa memberikan rekomendasi bagi perusahaan untuk mengurangi isu isolasi sosial dan meningkatkan kesejahteraan mental pekerja.\n",
    "\n",
    "4. Relevant\n",
    "    > Isu-isu yang diangkat sangat relevan bagi perusahaan yang ingin mengoptimalkan produktivitas dan kesejahteraan pekerja, terutama di era remote work yang masih berlangsung di banyak perusahaan pasca-pandemi. Analisis ini membantu perusahaan memahami faktor-faktor yang memengaruhi work-life balance dan produktivitas dari pekerja dalam jangka panjang.\n",
    "\n",
    "5. Time-Bound\n",
    "    > Milestone ini ditargetkan untuk diselesaikan dalam waktu 5 hari kerja, termasuk analisis data, interpretasi hasil, rekomendasi yang akan diberikan dari hasil analisisnya, serta dashboard visualisasi interaktif yang dapat digunakan."
   ]
  },
  {
   "cell_type": "markdown",
   "metadata": {},
   "source": [
    "## D. Problem Statement"
   ]
  },
  {
   "cell_type": "markdown",
   "metadata": {},
   "source": [
    "Penelitian ini bertujuan untuk melakukan analisis korelasi antara berbagai aspek di kalangan pekerja, fokusnya adalah mengeksplorasi aspek-aspek tersebut untuk meningkatkan kepuasan kerja dan kesejahteraan mental pekerja. Dengan memanfaatkan metode statistik, penelitian ini diharapkan diselesaikan dalam 5 hari kerja serta menghasilkan rekomendasi bagi perusahaan relevan yang masih menerapkan remote work pasca-pandemi, guna mengurangi isu isolasi sosial dan meningkatkan kesejahteraan mental pekerja."
   ]
  },
  {
   "cell_type": "markdown",
   "metadata": {},
   "source": [
    "## E. Business Metrics"
   ]
  },
  {
   "cell_type": "markdown",
   "metadata": {},
   "source": [
    "- Employee Productivity Rate\n",
    "    > Mengukur perubahan produktivitas pekerja karena termasuk indikator utama performa pekerja dan output bisnis secara keseluruhan.\n",
    "- Work-Life Balance Satisfaction Score\n",
    "    > Mengukur skor rata-rata kepuasan pekerja terhadap work-life balance karena keseimbangan antara pekerjaan dan kehidupan sangat penting untuk menjaga kinerja dan kesehatan mental pekerja\n",
    "- Employee Stress Levels\n",
    "    > Mengukur rata-rata tingkat stres yang dilaporkan oleh pekerja karena tingkat stres yang tinggi bisa mengarah pada burnout dan penurunan produktivitas.\n",
    "- Mental Health Resource Utilization Rate\n",
    "    > Mengukur persentase pekerja yang memiliki akses ke sumber daya kesehatan mental dan memanfaatkannya.\n",
    "- Employee Satisfaction with Remote Work\n",
    "    > Mengukur tingkat kepuasan pekerja terhadap pengalaman bekerja dari jarak jauh\n",
    "- Return on Investment (ROI) of Mental Health Resources\n",
    "    > Mengukur dampak finansial dari investasi perusahaan dalam sumber daya kesehatan mental pekerja, karena perusahaan perlu mengetahui apakah investasi dalam sumber daya kesehatan mental benar-benar membantu meningkatkan produktivitas dan kesejahteraan pekerja.\n"
   ]
  },
  {
   "cell_type": "markdown",
   "metadata": {},
   "source": [
    "## F. Penjabaran Masalah"
   ]
  },
  {
   "cell_type": "markdown",
   "metadata": {},
   "source": [
    "**A. Work-Life Balance and Stress Levels**\n",
    "1. Bagaimana pengaruh distribusi Work-Life Balance Rating di antara pekerja?\n",
    "2. Apa kategori stress level pekerja, serta bagaimana distribusinya berdasarkan jenis pekerjaan dan lokasi kerja?\n",
    "3. Apakah terdapat perbedaan signifikan dalam Work-Life Balance Rating di antara pekerja dengan lokasi kerja yang berbeda?\n",
    "4. Bagaimana korelasi antara jam kerja per minggu dengan stress level, serta apakah jam kerja ini berpengaruh terhadap stress level pekerja?\n",
    "\n",
    "**B. Mental Health and Company Support**\n",
    "1. Bagaimana persebaran kondisi kesehatan mental pekerja berdasarkan industri dan region?\n",
    "2. Bagaimana akses pekerja terhadap sumber daya kesehatan mental di berbagai industri?\n",
    "3. Apakah terdapat hubungan yang signifikan antara akses pekerja terhadap sumber daya kesehatan mental dan kondisi kesehatan mental Mental_Health_Condition berdasarkan uji chi-square?\n",
    "4. Apakah terdapat perbedaan signifikan dalam perubahan produktivitas berdasarkan dukungan perusahaan terhadap remote work?\n",
    "\n",
    "**C. Productivity and Satisfaction with Remote Work**\n",
    "1. Bagaimana distribusi perubahan produktivitas berhubungan dengan kepuasan dengan remote work?\n",
    "2. Bagaimana demografi pekerja, seperti Gender dan Age, terkait dengan kepuasan remote work?"
   ]
  },
  {
   "cell_type": "markdown",
   "metadata": {},
   "source": [
    "# iii. Data Loading"
   ]
  },
  {
   "cell_type": "code",
   "execution_count": 5,
   "metadata": {},
   "outputs": [],
   "source": [
    "# Libraries\n",
    "import pandas as pd\n",
    "import numpy as np\n",
    "from scipy import stats\n",
    "from scipy.stats import *\n",
    "import matplotlib.pyplot as plt\n",
    "import seaborn as sns"
   ]
  },
  {
   "cell_type": "code",
   "execution_count": 6,
   "metadata": {},
   "outputs": [
    {
     "data": {
      "text/html": [
       "<div>\n",
       "<style scoped>\n",
       "    .dataframe tbody tr th:only-of-type {\n",
       "        vertical-align: middle;\n",
       "    }\n",
       "\n",
       "    .dataframe tbody tr th {\n",
       "        vertical-align: top;\n",
       "    }\n",
       "\n",
       "    .dataframe thead th {\n",
       "        text-align: right;\n",
       "    }\n",
       "</style>\n",
       "<table border=\"1\" class=\"dataframe\">\n",
       "  <thead>\n",
       "    <tr style=\"text-align: right;\">\n",
       "      <th></th>\n",
       "      <th>Employee_ID</th>\n",
       "      <th>Age</th>\n",
       "      <th>Gender</th>\n",
       "      <th>Job_Role</th>\n",
       "      <th>Industry</th>\n",
       "      <th>Years_of_Experience</th>\n",
       "      <th>Work_Location</th>\n",
       "      <th>Hours_Worked_Per_Week</th>\n",
       "      <th>Number_of_Virtual_Meetings</th>\n",
       "      <th>Work_Life_Balance_Rating</th>\n",
       "      <th>Stress_Level</th>\n",
       "      <th>Mental_Health_Condition</th>\n",
       "      <th>Access_to_Mental_Health_Resources</th>\n",
       "      <th>Productivity_Change</th>\n",
       "      <th>Social_Isolation_Rating</th>\n",
       "      <th>Satisfaction_with_Remote_Work</th>\n",
       "      <th>Company_Support_for_Remote_Work</th>\n",
       "      <th>Physical_Activity</th>\n",
       "      <th>Sleep_Quality</th>\n",
       "      <th>Region</th>\n",
       "    </tr>\n",
       "  </thead>\n",
       "  <tbody>\n",
       "    <tr>\n",
       "      <th>0</th>\n",
       "      <td>EMP0001</td>\n",
       "      <td>32</td>\n",
       "      <td>Non-binary</td>\n",
       "      <td>HR</td>\n",
       "      <td>Healthcare</td>\n",
       "      <td>13</td>\n",
       "      <td>Hybrid</td>\n",
       "      <td>47</td>\n",
       "      <td>7</td>\n",
       "      <td>2</td>\n",
       "      <td>Medium</td>\n",
       "      <td>Depression</td>\n",
       "      <td>No</td>\n",
       "      <td>Decrease</td>\n",
       "      <td>1</td>\n",
       "      <td>Unsatisfied</td>\n",
       "      <td>1</td>\n",
       "      <td>Weekly</td>\n",
       "      <td>Good</td>\n",
       "      <td>Europe</td>\n",
       "    </tr>\n",
       "    <tr>\n",
       "      <th>1</th>\n",
       "      <td>EMP0002</td>\n",
       "      <td>40</td>\n",
       "      <td>Female</td>\n",
       "      <td>Data Scientist</td>\n",
       "      <td>IT</td>\n",
       "      <td>3</td>\n",
       "      <td>Remote</td>\n",
       "      <td>52</td>\n",
       "      <td>4</td>\n",
       "      <td>1</td>\n",
       "      <td>Medium</td>\n",
       "      <td>Anxiety</td>\n",
       "      <td>No</td>\n",
       "      <td>Increase</td>\n",
       "      <td>3</td>\n",
       "      <td>Satisfied</td>\n",
       "      <td>2</td>\n",
       "      <td>Weekly</td>\n",
       "      <td>Good</td>\n",
       "      <td>Asia</td>\n",
       "    </tr>\n",
       "    <tr>\n",
       "      <th>2</th>\n",
       "      <td>EMP0003</td>\n",
       "      <td>59</td>\n",
       "      <td>Non-binary</td>\n",
       "      <td>Software Engineer</td>\n",
       "      <td>Education</td>\n",
       "      <td>22</td>\n",
       "      <td>Hybrid</td>\n",
       "      <td>46</td>\n",
       "      <td>11</td>\n",
       "      <td>5</td>\n",
       "      <td>Medium</td>\n",
       "      <td>Anxiety</td>\n",
       "      <td>No</td>\n",
       "      <td>No Change</td>\n",
       "      <td>4</td>\n",
       "      <td>Unsatisfied</td>\n",
       "      <td>5</td>\n",
       "      <td>NaN</td>\n",
       "      <td>Poor</td>\n",
       "      <td>North America</td>\n",
       "    </tr>\n",
       "    <tr>\n",
       "      <th>3</th>\n",
       "      <td>EMP0004</td>\n",
       "      <td>27</td>\n",
       "      <td>Male</td>\n",
       "      <td>Software Engineer</td>\n",
       "      <td>Finance</td>\n",
       "      <td>20</td>\n",
       "      <td>Onsite</td>\n",
       "      <td>32</td>\n",
       "      <td>8</td>\n",
       "      <td>4</td>\n",
       "      <td>High</td>\n",
       "      <td>Depression</td>\n",
       "      <td>Yes</td>\n",
       "      <td>Increase</td>\n",
       "      <td>3</td>\n",
       "      <td>Unsatisfied</td>\n",
       "      <td>3</td>\n",
       "      <td>NaN</td>\n",
       "      <td>Poor</td>\n",
       "      <td>Europe</td>\n",
       "    </tr>\n",
       "    <tr>\n",
       "      <th>4</th>\n",
       "      <td>EMP0005</td>\n",
       "      <td>49</td>\n",
       "      <td>Male</td>\n",
       "      <td>Sales</td>\n",
       "      <td>Consulting</td>\n",
       "      <td>32</td>\n",
       "      <td>Onsite</td>\n",
       "      <td>35</td>\n",
       "      <td>12</td>\n",
       "      <td>2</td>\n",
       "      <td>High</td>\n",
       "      <td>NaN</td>\n",
       "      <td>Yes</td>\n",
       "      <td>Decrease</td>\n",
       "      <td>3</td>\n",
       "      <td>Unsatisfied</td>\n",
       "      <td>3</td>\n",
       "      <td>Weekly</td>\n",
       "      <td>Average</td>\n",
       "      <td>North America</td>\n",
       "    </tr>\n",
       "    <tr>\n",
       "      <th>...</th>\n",
       "      <td>...</td>\n",
       "      <td>...</td>\n",
       "      <td>...</td>\n",
       "      <td>...</td>\n",
       "      <td>...</td>\n",
       "      <td>...</td>\n",
       "      <td>...</td>\n",
       "      <td>...</td>\n",
       "      <td>...</td>\n",
       "      <td>...</td>\n",
       "      <td>...</td>\n",
       "      <td>...</td>\n",
       "      <td>...</td>\n",
       "      <td>...</td>\n",
       "      <td>...</td>\n",
       "      <td>...</td>\n",
       "      <td>...</td>\n",
       "      <td>...</td>\n",
       "      <td>...</td>\n",
       "      <td>...</td>\n",
       "    </tr>\n",
       "    <tr>\n",
       "      <th>4995</th>\n",
       "      <td>EMP4996</td>\n",
       "      <td>32</td>\n",
       "      <td>Male</td>\n",
       "      <td>Sales</td>\n",
       "      <td>Consulting</td>\n",
       "      <td>4</td>\n",
       "      <td>Onsite</td>\n",
       "      <td>24</td>\n",
       "      <td>2</td>\n",
       "      <td>5</td>\n",
       "      <td>High</td>\n",
       "      <td>Burnout</td>\n",
       "      <td>Yes</td>\n",
       "      <td>Decrease</td>\n",
       "      <td>4</td>\n",
       "      <td>Neutral</td>\n",
       "      <td>1</td>\n",
       "      <td>Weekly</td>\n",
       "      <td>Average</td>\n",
       "      <td>Asia</td>\n",
       "    </tr>\n",
       "    <tr>\n",
       "      <th>4996</th>\n",
       "      <td>EMP4997</td>\n",
       "      <td>39</td>\n",
       "      <td>Female</td>\n",
       "      <td>Sales</td>\n",
       "      <td>Healthcare</td>\n",
       "      <td>27</td>\n",
       "      <td>Onsite</td>\n",
       "      <td>48</td>\n",
       "      <td>15</td>\n",
       "      <td>1</td>\n",
       "      <td>Low</td>\n",
       "      <td>Depression</td>\n",
       "      <td>Yes</td>\n",
       "      <td>Decrease</td>\n",
       "      <td>1</td>\n",
       "      <td>Satisfied</td>\n",
       "      <td>1</td>\n",
       "      <td>NaN</td>\n",
       "      <td>Average</td>\n",
       "      <td>Africa</td>\n",
       "    </tr>\n",
       "    <tr>\n",
       "      <th>4997</th>\n",
       "      <td>EMP4998</td>\n",
       "      <td>42</td>\n",
       "      <td>Female</td>\n",
       "      <td>Sales</td>\n",
       "      <td>Healthcare</td>\n",
       "      <td>21</td>\n",
       "      <td>Hybrid</td>\n",
       "      <td>34</td>\n",
       "      <td>1</td>\n",
       "      <td>4</td>\n",
       "      <td>High</td>\n",
       "      <td>Burnout</td>\n",
       "      <td>No</td>\n",
       "      <td>Increase</td>\n",
       "      <td>3</td>\n",
       "      <td>Satisfied</td>\n",
       "      <td>1</td>\n",
       "      <td>Daily</td>\n",
       "      <td>Poor</td>\n",
       "      <td>Oceania</td>\n",
       "    </tr>\n",
       "    <tr>\n",
       "      <th>4998</th>\n",
       "      <td>EMP4999</td>\n",
       "      <td>27</td>\n",
       "      <td>Female</td>\n",
       "      <td>Sales</td>\n",
       "      <td>Healthcare</td>\n",
       "      <td>26</td>\n",
       "      <td>Remote</td>\n",
       "      <td>58</td>\n",
       "      <td>0</td>\n",
       "      <td>5</td>\n",
       "      <td>Low</td>\n",
       "      <td>NaN</td>\n",
       "      <td>Yes</td>\n",
       "      <td>Increase</td>\n",
       "      <td>3</td>\n",
       "      <td>Unsatisfied</td>\n",
       "      <td>4</td>\n",
       "      <td>Daily</td>\n",
       "      <td>Average</td>\n",
       "      <td>Asia</td>\n",
       "    </tr>\n",
       "    <tr>\n",
       "      <th>4999</th>\n",
       "      <td>EMP5000</td>\n",
       "      <td>29</td>\n",
       "      <td>Male</td>\n",
       "      <td>HR</td>\n",
       "      <td>IT</td>\n",
       "      <td>30</td>\n",
       "      <td>Onsite</td>\n",
       "      <td>20</td>\n",
       "      <td>15</td>\n",
       "      <td>1</td>\n",
       "      <td>Low</td>\n",
       "      <td>Depression</td>\n",
       "      <td>Yes</td>\n",
       "      <td>No Change</td>\n",
       "      <td>3</td>\n",
       "      <td>Unsatisfied</td>\n",
       "      <td>5</td>\n",
       "      <td>NaN</td>\n",
       "      <td>Poor</td>\n",
       "      <td>Asia</td>\n",
       "    </tr>\n",
       "  </tbody>\n",
       "</table>\n",
       "<p>5000 rows × 20 columns</p>\n",
       "</div>"
      ],
      "text/plain": [
       "     Employee_ID  Age      Gender           Job_Role    Industry  \\\n",
       "0        EMP0001   32  Non-binary                 HR  Healthcare   \n",
       "1        EMP0002   40      Female     Data Scientist          IT   \n",
       "2        EMP0003   59  Non-binary  Software Engineer   Education   \n",
       "3        EMP0004   27        Male  Software Engineer     Finance   \n",
       "4        EMP0005   49        Male              Sales  Consulting   \n",
       "...          ...  ...         ...                ...         ...   \n",
       "4995     EMP4996   32        Male              Sales  Consulting   \n",
       "4996     EMP4997   39      Female              Sales  Healthcare   \n",
       "4997     EMP4998   42      Female              Sales  Healthcare   \n",
       "4998     EMP4999   27      Female              Sales  Healthcare   \n",
       "4999     EMP5000   29        Male                 HR          IT   \n",
       "\n",
       "      Years_of_Experience Work_Location  Hours_Worked_Per_Week  \\\n",
       "0                      13        Hybrid                     47   \n",
       "1                       3        Remote                     52   \n",
       "2                      22        Hybrid                     46   \n",
       "3                      20        Onsite                     32   \n",
       "4                      32        Onsite                     35   \n",
       "...                   ...           ...                    ...   \n",
       "4995                    4        Onsite                     24   \n",
       "4996                   27        Onsite                     48   \n",
       "4997                   21        Hybrid                     34   \n",
       "4998                   26        Remote                     58   \n",
       "4999                   30        Onsite                     20   \n",
       "\n",
       "      Number_of_Virtual_Meetings  Work_Life_Balance_Rating Stress_Level  \\\n",
       "0                              7                         2       Medium   \n",
       "1                              4                         1       Medium   \n",
       "2                             11                         5       Medium   \n",
       "3                              8                         4         High   \n",
       "4                             12                         2         High   \n",
       "...                          ...                       ...          ...   \n",
       "4995                           2                         5         High   \n",
       "4996                          15                         1          Low   \n",
       "4997                           1                         4         High   \n",
       "4998                           0                         5          Low   \n",
       "4999                          15                         1          Low   \n",
       "\n",
       "     Mental_Health_Condition Access_to_Mental_Health_Resources  \\\n",
       "0                 Depression                                No   \n",
       "1                    Anxiety                                No   \n",
       "2                    Anxiety                                No   \n",
       "3                 Depression                               Yes   \n",
       "4                        NaN                               Yes   \n",
       "...                      ...                               ...   \n",
       "4995                 Burnout                               Yes   \n",
       "4996              Depression                               Yes   \n",
       "4997                 Burnout                                No   \n",
       "4998                     NaN                               Yes   \n",
       "4999              Depression                               Yes   \n",
       "\n",
       "     Productivity_Change  Social_Isolation_Rating  \\\n",
       "0               Decrease                        1   \n",
       "1               Increase                        3   \n",
       "2              No Change                        4   \n",
       "3               Increase                        3   \n",
       "4               Decrease                        3   \n",
       "...                  ...                      ...   \n",
       "4995            Decrease                        4   \n",
       "4996            Decrease                        1   \n",
       "4997            Increase                        3   \n",
       "4998            Increase                        3   \n",
       "4999           No Change                        3   \n",
       "\n",
       "     Satisfaction_with_Remote_Work  Company_Support_for_Remote_Work  \\\n",
       "0                      Unsatisfied                                1   \n",
       "1                        Satisfied                                2   \n",
       "2                      Unsatisfied                                5   \n",
       "3                      Unsatisfied                                3   \n",
       "4                      Unsatisfied                                3   \n",
       "...                            ...                              ...   \n",
       "4995                       Neutral                                1   \n",
       "4996                     Satisfied                                1   \n",
       "4997                     Satisfied                                1   \n",
       "4998                   Unsatisfied                                4   \n",
       "4999                   Unsatisfied                                5   \n",
       "\n",
       "     Physical_Activity Sleep_Quality         Region  \n",
       "0               Weekly          Good         Europe  \n",
       "1               Weekly          Good           Asia  \n",
       "2                  NaN          Poor  North America  \n",
       "3                  NaN          Poor         Europe  \n",
       "4               Weekly       Average  North America  \n",
       "...                ...           ...            ...  \n",
       "4995            Weekly       Average           Asia  \n",
       "4996               NaN       Average         Africa  \n",
       "4997             Daily          Poor        Oceania  \n",
       "4998             Daily       Average           Asia  \n",
       "4999               NaN          Poor           Asia  \n",
       "\n",
       "[5000 rows x 20 columns]"
      ]
     },
     "execution_count": 6,
     "metadata": {},
     "output_type": "execute_result"
    }
   ],
   "source": [
    "# Load atau membaca file CSV ke dalam Pandas DataFrame\n",
    "df_raw = pd.read_csv(\"Impact_of_Remote_Work_on_Mental_Health.csv\")\n",
    "\n",
    "# Copy DataFrame raw ke bentuk variable baru\n",
    "df = df_raw.copy()\n",
    "\n",
    "# Menampilkan DataFrame yang telah di-load\n",
    "df"
   ]
  },
  {
   "cell_type": "code",
   "execution_count": 7,
   "metadata": {},
   "outputs": [
    {
     "name": "stdout",
     "output_type": "stream",
     "text": [
      "<class 'pandas.core.frame.DataFrame'>\n",
      "RangeIndex: 5000 entries, 0 to 4999\n",
      "Data columns (total 20 columns):\n",
      " #   Column                             Non-Null Count  Dtype \n",
      "---  ------                             --------------  ----- \n",
      " 0   Employee_ID                        5000 non-null   object\n",
      " 1   Age                                5000 non-null   int64 \n",
      " 2   Gender                             5000 non-null   object\n",
      " 3   Job_Role                           5000 non-null   object\n",
      " 4   Industry                           5000 non-null   object\n",
      " 5   Years_of_Experience                5000 non-null   int64 \n",
      " 6   Work_Location                      5000 non-null   object\n",
      " 7   Hours_Worked_Per_Week              5000 non-null   int64 \n",
      " 8   Number_of_Virtual_Meetings         5000 non-null   int64 \n",
      " 9   Work_Life_Balance_Rating           5000 non-null   int64 \n",
      " 10  Stress_Level                       5000 non-null   object\n",
      " 11  Mental_Health_Condition            3804 non-null   object\n",
      " 12  Access_to_Mental_Health_Resources  5000 non-null   object\n",
      " 13  Productivity_Change                5000 non-null   object\n",
      " 14  Social_Isolation_Rating            5000 non-null   int64 \n",
      " 15  Satisfaction_with_Remote_Work      5000 non-null   object\n",
      " 16  Company_Support_for_Remote_Work    5000 non-null   int64 \n",
      " 17  Physical_Activity                  3371 non-null   object\n",
      " 18  Sleep_Quality                      5000 non-null   object\n",
      " 19  Region                             5000 non-null   object\n",
      "dtypes: int64(7), object(13)\n",
      "memory usage: 781.4+ KB\n"
     ]
    }
   ],
   "source": [
    "df.info()"
   ]
  },
  {
   "cell_type": "markdown",
   "metadata": {},
   "source": [
    "INSIGHT:\n",
    "- DataFrame terdiri dari 20 columns dan 5000 rows (entries), dimana columnsnya terdiri dari:\n",
    "    - `Employee_ID`: Sebagai unique identifier dari tiap pekerja\n",
    "    - `Age`: Umur dari tiap pekerja\n",
    "    - `Gender`: Gender pekerja\n",
    "    - `Job_Role`: Pekerjaan saat ini\n",
    "    - `Industry`: Industri pekerjaan saat ini\n",
    "    - `Years_of_Experience`: Berapa lama bekerja\n",
    "    - `Work_Location`: Metode bekerjanya seperti apa\n",
    "    - `Hours_Worked_Per_Week`: Jumlah waktu kerja per minggunya (dalam bentuk jam)\n",
    "    - `Number_of_Virtual_Meetings`: Berapa kali virtual meeting dalam seminggu\n",
    "    - `Work_Life_Balance_Rating`: Rating pekerja untuk work life balance saat ini (makin tinggi makin bagus)\n",
    "    - `Stress_Level`: Level stress yang dialami pekerja secara pribadi\n",
    "    - `Mental_Health_Condition`: Isu mental health apa yang sekiranya sedang dirasakan pekerja\n",
    "    - `Access_to_Mental_Health_Resources`: Apakah pernah mencari atau mendapatkan bantuan dari Mental Health Resources\n",
    "    - `Productivity_Change`: Bagaimana perubahan produktivitas bekerja selama ini\n",
    "    - `Social_Isolation_Rating`: Rating pekerja mengenai isolasi social (makin rendah makin baik)\n",
    "    - `Satisfaction_with_Remote_Work`: Seberapa senang dengan metode remote work\n",
    "    - `Company_Support_for_Remote_Work`: Support perusahaan untuk bisa remote work untuk pekerja (semakin tinggi semakin bisa remote work)\n",
    "    - `Physical_Activity`: Frekuensi aktivitas fisik yang dilakukan\n",
    "    - `Sleep_Quality`: Kualitas tidur pekerja\n",
    "    - `Region`: Benua tempat pekerja tinggal\n",
    "- Sudah adanya `Employee_ID` sebagai PRIMARY KEY untuk tabel ini.\n",
    "- Pada columns `Mental_Health_Condition` dan `Physical_Activity` memiliki missing value, yang mana nantinya perlu handling untuk hal ini.\n",
    "- Pada DataFrame ini hanya terdapat 2 data type saja, yaitu `object` dan `int64`."
   ]
  },
  {
   "cell_type": "code",
   "execution_count": 8,
   "metadata": {},
   "outputs": [
    {
     "data": {
      "text/plain": [
       "Employee_ID                             0\n",
       "Age                                     0\n",
       "Gender                                  0\n",
       "Job_Role                                0\n",
       "Industry                                0\n",
       "Years_of_Experience                     0\n",
       "Work_Location                           0\n",
       "Hours_Worked_Per_Week                   0\n",
       "Number_of_Virtual_Meetings              0\n",
       "Work_Life_Balance_Rating                0\n",
       "Stress_Level                            0\n",
       "Mental_Health_Condition              1196\n",
       "Access_to_Mental_Health_Resources       0\n",
       "Productivity_Change                     0\n",
       "Social_Isolation_Rating                 0\n",
       "Satisfaction_with_Remote_Work           0\n",
       "Company_Support_for_Remote_Work         0\n",
       "Physical_Activity                    1629\n",
       "Sleep_Quality                           0\n",
       "Region                                  0\n",
       "dtype: int64"
      ]
     },
     "execution_count": 8,
     "metadata": {},
     "output_type": "execute_result"
    }
   ],
   "source": [
    "df.isnull().sum()"
   ]
  },
  {
   "cell_type": "markdown",
   "metadata": {},
   "source": [
    "INSIGHT: Melihat tepatnya seberapa banyak missing value yang ada di columns `Mental_Health_Condition` dan `Physical_Activity`."
   ]
  },
  {
   "cell_type": "code",
   "execution_count": 9,
   "metadata": {},
   "outputs": [
    {
     "data": {
      "text/html": [
       "<div>\n",
       "<style scoped>\n",
       "    .dataframe tbody tr th:only-of-type {\n",
       "        vertical-align: middle;\n",
       "    }\n",
       "\n",
       "    .dataframe tbody tr th {\n",
       "        vertical-align: top;\n",
       "    }\n",
       "\n",
       "    .dataframe thead th {\n",
       "        text-align: right;\n",
       "    }\n",
       "</style>\n",
       "<table border=\"1\" class=\"dataframe\">\n",
       "  <thead>\n",
       "    <tr style=\"text-align: right;\">\n",
       "      <th></th>\n",
       "      <th>count</th>\n",
       "      <th>unique</th>\n",
       "      <th>top</th>\n",
       "      <th>freq</th>\n",
       "    </tr>\n",
       "  </thead>\n",
       "  <tbody>\n",
       "    <tr>\n",
       "      <th>Employee_ID</th>\n",
       "      <td>5000</td>\n",
       "      <td>5000</td>\n",
       "      <td>EMP5000</td>\n",
       "      <td>1</td>\n",
       "    </tr>\n",
       "    <tr>\n",
       "      <th>Gender</th>\n",
       "      <td>5000</td>\n",
       "      <td>4</td>\n",
       "      <td>Female</td>\n",
       "      <td>1274</td>\n",
       "    </tr>\n",
       "    <tr>\n",
       "      <th>Job_Role</th>\n",
       "      <td>5000</td>\n",
       "      <td>7</td>\n",
       "      <td>Project Manager</td>\n",
       "      <td>738</td>\n",
       "    </tr>\n",
       "    <tr>\n",
       "      <th>Industry</th>\n",
       "      <td>5000</td>\n",
       "      <td>7</td>\n",
       "      <td>Finance</td>\n",
       "      <td>747</td>\n",
       "    </tr>\n",
       "    <tr>\n",
       "      <th>Work_Location</th>\n",
       "      <td>5000</td>\n",
       "      <td>3</td>\n",
       "      <td>Remote</td>\n",
       "      <td>1714</td>\n",
       "    </tr>\n",
       "    <tr>\n",
       "      <th>Stress_Level</th>\n",
       "      <td>5000</td>\n",
       "      <td>3</td>\n",
       "      <td>High</td>\n",
       "      <td>1686</td>\n",
       "    </tr>\n",
       "    <tr>\n",
       "      <th>Mental_Health_Condition</th>\n",
       "      <td>3804</td>\n",
       "      <td>3</td>\n",
       "      <td>Burnout</td>\n",
       "      <td>1280</td>\n",
       "    </tr>\n",
       "    <tr>\n",
       "      <th>Access_to_Mental_Health_Resources</th>\n",
       "      <td>5000</td>\n",
       "      <td>2</td>\n",
       "      <td>No</td>\n",
       "      <td>2553</td>\n",
       "    </tr>\n",
       "    <tr>\n",
       "      <th>Productivity_Change</th>\n",
       "      <td>5000</td>\n",
       "      <td>3</td>\n",
       "      <td>Decrease</td>\n",
       "      <td>1737</td>\n",
       "    </tr>\n",
       "    <tr>\n",
       "      <th>Satisfaction_with_Remote_Work</th>\n",
       "      <td>5000</td>\n",
       "      <td>3</td>\n",
       "      <td>Unsatisfied</td>\n",
       "      <td>1677</td>\n",
       "    </tr>\n",
       "    <tr>\n",
       "      <th>Physical_Activity</th>\n",
       "      <td>3371</td>\n",
       "      <td>2</td>\n",
       "      <td>Weekly</td>\n",
       "      <td>1755</td>\n",
       "    </tr>\n",
       "    <tr>\n",
       "      <th>Sleep_Quality</th>\n",
       "      <td>5000</td>\n",
       "      <td>3</td>\n",
       "      <td>Good</td>\n",
       "      <td>1687</td>\n",
       "    </tr>\n",
       "    <tr>\n",
       "      <th>Region</th>\n",
       "      <td>5000</td>\n",
       "      <td>6</td>\n",
       "      <td>Oceania</td>\n",
       "      <td>867</td>\n",
       "    </tr>\n",
       "  </tbody>\n",
       "</table>\n",
       "</div>"
      ],
      "text/plain": [
       "                                  count unique              top  freq\n",
       "Employee_ID                        5000   5000          EMP5000     1\n",
       "Gender                             5000      4           Female  1274\n",
       "Job_Role                           5000      7  Project Manager   738\n",
       "Industry                           5000      7          Finance   747\n",
       "Work_Location                      5000      3           Remote  1714\n",
       "Stress_Level                       5000      3             High  1686\n",
       "Mental_Health_Condition            3804      3          Burnout  1280\n",
       "Access_to_Mental_Health_Resources  5000      2               No  2553\n",
       "Productivity_Change                5000      3         Decrease  1737\n",
       "Satisfaction_with_Remote_Work      5000      3      Unsatisfied  1677\n",
       "Physical_Activity                  3371      2           Weekly  1755\n",
       "Sleep_Quality                      5000      3             Good  1687\n",
       "Region                             5000      6          Oceania   867"
      ]
     },
     "execution_count": 9,
     "metadata": {},
     "output_type": "execute_result"
    }
   ],
   "source": [
    "df.describe(include='object').T"
   ]
  },
  {
   "cell_type": "markdown",
   "metadata": {},
   "source": [
    "INSIGHT: Melihat jumlah unique values dari tiap columns-nya, serta dapat dilihat unique values terbanyak / sering muncul yang ada di tiap columns-nya pada DataFrame ini."
   ]
  },
  {
   "cell_type": "code",
   "execution_count": 10,
   "metadata": {},
   "outputs": [
    {
     "data": {
      "text/html": [
       "<div>\n",
       "<style scoped>\n",
       "    .dataframe tbody tr th:only-of-type {\n",
       "        vertical-align: middle;\n",
       "    }\n",
       "\n",
       "    .dataframe tbody tr th {\n",
       "        vertical-align: top;\n",
       "    }\n",
       "\n",
       "    .dataframe thead th {\n",
       "        text-align: right;\n",
       "    }\n",
       "</style>\n",
       "<table border=\"1\" class=\"dataframe\">\n",
       "  <thead>\n",
       "    <tr style=\"text-align: right;\">\n",
       "      <th></th>\n",
       "      <th>count</th>\n",
       "      <th>mean</th>\n",
       "      <th>std</th>\n",
       "      <th>min</th>\n",
       "      <th>25%</th>\n",
       "      <th>50%</th>\n",
       "      <th>75%</th>\n",
       "      <th>max</th>\n",
       "    </tr>\n",
       "  </thead>\n",
       "  <tbody>\n",
       "    <tr>\n",
       "      <th>Age</th>\n",
       "      <td>5000.0</td>\n",
       "      <td>40.9950</td>\n",
       "      <td>11.296021</td>\n",
       "      <td>22.0</td>\n",
       "      <td>31.0</td>\n",
       "      <td>41.0</td>\n",
       "      <td>51.0</td>\n",
       "      <td>60.0</td>\n",
       "    </tr>\n",
       "    <tr>\n",
       "      <th>Years_of_Experience</th>\n",
       "      <td>5000.0</td>\n",
       "      <td>17.8102</td>\n",
       "      <td>10.020412</td>\n",
       "      <td>1.0</td>\n",
       "      <td>9.0</td>\n",
       "      <td>18.0</td>\n",
       "      <td>26.0</td>\n",
       "      <td>35.0</td>\n",
       "    </tr>\n",
       "    <tr>\n",
       "      <th>Hours_Worked_Per_Week</th>\n",
       "      <td>5000.0</td>\n",
       "      <td>39.6146</td>\n",
       "      <td>11.860194</td>\n",
       "      <td>20.0</td>\n",
       "      <td>29.0</td>\n",
       "      <td>40.0</td>\n",
       "      <td>50.0</td>\n",
       "      <td>60.0</td>\n",
       "    </tr>\n",
       "    <tr>\n",
       "      <th>Number_of_Virtual_Meetings</th>\n",
       "      <td>5000.0</td>\n",
       "      <td>7.5590</td>\n",
       "      <td>4.636121</td>\n",
       "      <td>0.0</td>\n",
       "      <td>4.0</td>\n",
       "      <td>8.0</td>\n",
       "      <td>12.0</td>\n",
       "      <td>15.0</td>\n",
       "    </tr>\n",
       "    <tr>\n",
       "      <th>Work_Life_Balance_Rating</th>\n",
       "      <td>5000.0</td>\n",
       "      <td>2.9842</td>\n",
       "      <td>1.410513</td>\n",
       "      <td>1.0</td>\n",
       "      <td>2.0</td>\n",
       "      <td>3.0</td>\n",
       "      <td>4.0</td>\n",
       "      <td>5.0</td>\n",
       "    </tr>\n",
       "    <tr>\n",
       "      <th>Social_Isolation_Rating</th>\n",
       "      <td>5000.0</td>\n",
       "      <td>2.9938</td>\n",
       "      <td>1.394615</td>\n",
       "      <td>1.0</td>\n",
       "      <td>2.0</td>\n",
       "      <td>3.0</td>\n",
       "      <td>4.0</td>\n",
       "      <td>5.0</td>\n",
       "    </tr>\n",
       "    <tr>\n",
       "      <th>Company_Support_for_Remote_Work</th>\n",
       "      <td>5000.0</td>\n",
       "      <td>3.0078</td>\n",
       "      <td>1.399046</td>\n",
       "      <td>1.0</td>\n",
       "      <td>2.0</td>\n",
       "      <td>3.0</td>\n",
       "      <td>4.0</td>\n",
       "      <td>5.0</td>\n",
       "    </tr>\n",
       "  </tbody>\n",
       "</table>\n",
       "</div>"
      ],
      "text/plain": [
       "                                  count     mean        std   min   25%   50%  \\\n",
       "Age                              5000.0  40.9950  11.296021  22.0  31.0  41.0   \n",
       "Years_of_Experience              5000.0  17.8102  10.020412   1.0   9.0  18.0   \n",
       "Hours_Worked_Per_Week            5000.0  39.6146  11.860194  20.0  29.0  40.0   \n",
       "Number_of_Virtual_Meetings       5000.0   7.5590   4.636121   0.0   4.0   8.0   \n",
       "Work_Life_Balance_Rating         5000.0   2.9842   1.410513   1.0   2.0   3.0   \n",
       "Social_Isolation_Rating          5000.0   2.9938   1.394615   1.0   2.0   3.0   \n",
       "Company_Support_for_Remote_Work  5000.0   3.0078   1.399046   1.0   2.0   3.0   \n",
       "\n",
       "                                  75%   max  \n",
       "Age                              51.0  60.0  \n",
       "Years_of_Experience              26.0  35.0  \n",
       "Hours_Worked_Per_Week            50.0  60.0  \n",
       "Number_of_Virtual_Meetings       12.0  15.0  \n",
       "Work_Life_Balance_Rating          4.0   5.0  \n",
       "Social_Isolation_Rating           4.0   5.0  \n",
       "Company_Support_for_Remote_Work   4.0   5.0  "
      ]
     },
     "execution_count": 10,
     "metadata": {},
     "output_type": "execute_result"
    }
   ],
   "source": [
    "df.describe(include='int64').T"
   ]
  },
  {
   "cell_type": "markdown",
   "metadata": {},
   "source": [
    "INSIGHT: Menghitung statistik deskriptif untuk semua columns dalam DataFrame yang data type-nya `int64`."
   ]
  },
  {
   "cell_type": "code",
   "execution_count": 11,
   "metadata": {},
   "outputs": [
    {
     "name": "stdout",
     "output_type": "stream",
     "text": [
      "\n",
      "Employee_ID\n",
      "['EMP0001' 'EMP0002' 'EMP0003' ... 'EMP4998' 'EMP4999' 'EMP5000']\n",
      "\n",
      "Age\n",
      "[32 40 59 27 49 31 42 56 30 33 47 51 36 45 26 43 53 22 37 48 46 24 54 57\n",
      " 35 60 25 50 28 23 38 29 58 55 41 44 34 52 39]\n",
      "\n",
      "Gender\n",
      "['Non-binary' 'Female' 'Male' 'Prefer not to say']\n",
      "\n",
      "Job_Role\n",
      "['HR' 'Data Scientist' 'Software Engineer' 'Sales' 'Marketing' 'Designer'\n",
      " 'Project Manager']\n",
      "\n",
      "Industry\n",
      "['Healthcare' 'IT' 'Education' 'Finance' 'Consulting' 'Manufacturing'\n",
      " 'Retail']\n",
      "\n",
      "Years_of_Experience\n",
      "[13  3 22 20 32 31 24  6  9 28 17  1  5 23 30 33 21 11 34  4 29 27 10 18\n",
      " 14 26 12  7 25  8 15 35  2 19 16]\n",
      "\n",
      "Work_Location\n",
      "['Hybrid' 'Remote' 'Onsite']\n",
      "\n",
      "Hours_Worked_Per_Week\n",
      "[47 52 46 32 35 39 51 54 24 57 48 26 21 45 59 44 37 36 22 56 33 25 20 30\n",
      " 29 58 53 23 42 28 31 55 49 43 27 38 60 50 34 41 40]\n",
      "\n",
      "Number_of_Virtual_Meetings\n",
      "[ 7  4 11  8 12  3  6 13  9  1 15 14 10  2  0  5]\n",
      "\n",
      "Work_Life_Balance_Rating\n",
      "[2 1 5 4 3]\n",
      "\n",
      "Stress_Level\n",
      "['Medium' 'High' 'Low']\n",
      "\n",
      "Mental_Health_Condition\n",
      "['Depression' 'Anxiety' nan 'Burnout']\n",
      "\n",
      "Access_to_Mental_Health_Resources\n",
      "['No' 'Yes']\n",
      "\n",
      "Productivity_Change\n",
      "['Decrease' 'Increase' 'No Change']\n",
      "\n",
      "Social_Isolation_Rating\n",
      "[1 3 4 5 2]\n",
      "\n",
      "Satisfaction_with_Remote_Work\n",
      "['Unsatisfied' 'Satisfied' 'Neutral']\n",
      "\n",
      "Company_Support_for_Remote_Work\n",
      "[1 2 5 3 4]\n",
      "\n",
      "Physical_Activity\n",
      "['Weekly' nan 'Daily']\n",
      "\n",
      "Sleep_Quality\n",
      "['Good' 'Poor' 'Average']\n",
      "\n",
      "Region\n",
      "['Europe' 'Asia' 'North America' 'South America' 'Oceania' 'Africa']\n"
     ]
    }
   ],
   "source": [
    "for kolom in df.columns:\n",
    "    print()\n",
    "    print(kolom)\n",
    "    print(df[kolom].unique())"
   ]
  },
  {
   "cell_type": "markdown",
   "metadata": {},
   "source": [
    "INSIGHT:\n",
    "- Bisa dilihatnya bentuk unique value dari tiap columns yang ada dalam DataFrame.\n",
    "- Pada column `Gender`, akan dilakukan perubahan `Non-binary` ke dalam bentuk `Prefer not to say` agar datanya tidak semakin melebar karena arti dari values yang mirip.\n",
    "- Seperti yang diperkirakan, pada columns `Mental_Health_Condition` dan `Physical_Activity` terdapat `nan` yang berarti adanya missing value di columns tersebut, perlunya pengecekan terlebih dahulu terkait pola data yang hilang ini apakah MAR atau MCAR."
   ]
  },
  {
   "cell_type": "code",
   "execution_count": 12,
   "metadata": {},
   "outputs": [
    {
     "data": {
      "text/html": [
       "<div>\n",
       "<style scoped>\n",
       "    .dataframe tbody tr th:only-of-type {\n",
       "        vertical-align: middle;\n",
       "    }\n",
       "\n",
       "    .dataframe tbody tr th {\n",
       "        vertical-align: top;\n",
       "    }\n",
       "\n",
       "    .dataframe thead th {\n",
       "        text-align: right;\n",
       "    }\n",
       "</style>\n",
       "<table border=\"1\" class=\"dataframe\">\n",
       "  <thead>\n",
       "    <tr style=\"text-align: right;\">\n",
       "      <th></th>\n",
       "      <th>Employee_ID</th>\n",
       "      <th>Age</th>\n",
       "      <th>Gender</th>\n",
       "      <th>Job_Role</th>\n",
       "      <th>Industry</th>\n",
       "      <th>Years_of_Experience</th>\n",
       "      <th>Work_Location</th>\n",
       "      <th>Hours_Worked_Per_Week</th>\n",
       "      <th>Number_of_Virtual_Meetings</th>\n",
       "      <th>Work_Life_Balance_Rating</th>\n",
       "      <th>Stress_Level</th>\n",
       "      <th>Mental_Health_Condition</th>\n",
       "      <th>Access_to_Mental_Health_Resources</th>\n",
       "      <th>Productivity_Change</th>\n",
       "      <th>Social_Isolation_Rating</th>\n",
       "      <th>Satisfaction_with_Remote_Work</th>\n",
       "      <th>Company_Support_for_Remote_Work</th>\n",
       "      <th>Physical_Activity</th>\n",
       "      <th>Sleep_Quality</th>\n",
       "      <th>Region</th>\n",
       "    </tr>\n",
       "  </thead>\n",
       "  <tbody>\n",
       "    <tr>\n",
       "      <th>4</th>\n",
       "      <td>EMP0005</td>\n",
       "      <td>49</td>\n",
       "      <td>Male</td>\n",
       "      <td>Sales</td>\n",
       "      <td>Consulting</td>\n",
       "      <td>32</td>\n",
       "      <td>Onsite</td>\n",
       "      <td>35</td>\n",
       "      <td>12</td>\n",
       "      <td>2</td>\n",
       "      <td>High</td>\n",
       "      <td>NaN</td>\n",
       "      <td>Yes</td>\n",
       "      <td>Decrease</td>\n",
       "      <td>3</td>\n",
       "      <td>Unsatisfied</td>\n",
       "      <td>3</td>\n",
       "      <td>Weekly</td>\n",
       "      <td>Average</td>\n",
       "      <td>North America</td>\n",
       "    </tr>\n",
       "    <tr>\n",
       "      <th>5</th>\n",
       "      <td>EMP0006</td>\n",
       "      <td>59</td>\n",
       "      <td>Non-binary</td>\n",
       "      <td>Sales</td>\n",
       "      <td>IT</td>\n",
       "      <td>31</td>\n",
       "      <td>Hybrid</td>\n",
       "      <td>39</td>\n",
       "      <td>3</td>\n",
       "      <td>4</td>\n",
       "      <td>High</td>\n",
       "      <td>NaN</td>\n",
       "      <td>No</td>\n",
       "      <td>Increase</td>\n",
       "      <td>5</td>\n",
       "      <td>Unsatisfied</td>\n",
       "      <td>1</td>\n",
       "      <td>NaN</td>\n",
       "      <td>Average</td>\n",
       "      <td>South America</td>\n",
       "    </tr>\n",
       "    <tr>\n",
       "      <th>8</th>\n",
       "      <td>EMP0009</td>\n",
       "      <td>56</td>\n",
       "      <td>Prefer not to say</td>\n",
       "      <td>Data Scientist</td>\n",
       "      <td>Healthcare</td>\n",
       "      <td>9</td>\n",
       "      <td>Hybrid</td>\n",
       "      <td>24</td>\n",
       "      <td>4</td>\n",
       "      <td>2</td>\n",
       "      <td>High</td>\n",
       "      <td>NaN</td>\n",
       "      <td>Yes</td>\n",
       "      <td>Decrease</td>\n",
       "      <td>2</td>\n",
       "      <td>Unsatisfied</td>\n",
       "      <td>4</td>\n",
       "      <td>Daily</td>\n",
       "      <td>Poor</td>\n",
       "      <td>Europe</td>\n",
       "    </tr>\n",
       "    <tr>\n",
       "      <th>10</th>\n",
       "      <td>EMP0011</td>\n",
       "      <td>33</td>\n",
       "      <td>Non-binary</td>\n",
       "      <td>Software Engineer</td>\n",
       "      <td>Finance</td>\n",
       "      <td>17</td>\n",
       "      <td>Remote</td>\n",
       "      <td>48</td>\n",
       "      <td>3</td>\n",
       "      <td>3</td>\n",
       "      <td>High</td>\n",
       "      <td>NaN</td>\n",
       "      <td>Yes</td>\n",
       "      <td>Decrease</td>\n",
       "      <td>4</td>\n",
       "      <td>Satisfied</td>\n",
       "      <td>2</td>\n",
       "      <td>Weekly</td>\n",
       "      <td>Average</td>\n",
       "      <td>Oceania</td>\n",
       "    </tr>\n",
       "    <tr>\n",
       "      <th>11</th>\n",
       "      <td>EMP0012</td>\n",
       "      <td>47</td>\n",
       "      <td>Female</td>\n",
       "      <td>Marketing</td>\n",
       "      <td>Consulting</td>\n",
       "      <td>31</td>\n",
       "      <td>Hybrid</td>\n",
       "      <td>26</td>\n",
       "      <td>12</td>\n",
       "      <td>4</td>\n",
       "      <td>Medium</td>\n",
       "      <td>NaN</td>\n",
       "      <td>Yes</td>\n",
       "      <td>No Change</td>\n",
       "      <td>4</td>\n",
       "      <td>Neutral</td>\n",
       "      <td>3</td>\n",
       "      <td>Weekly</td>\n",
       "      <td>Poor</td>\n",
       "      <td>Africa</td>\n",
       "    </tr>\n",
       "    <tr>\n",
       "      <th>...</th>\n",
       "      <td>...</td>\n",
       "      <td>...</td>\n",
       "      <td>...</td>\n",
       "      <td>...</td>\n",
       "      <td>...</td>\n",
       "      <td>...</td>\n",
       "      <td>...</td>\n",
       "      <td>...</td>\n",
       "      <td>...</td>\n",
       "      <td>...</td>\n",
       "      <td>...</td>\n",
       "      <td>...</td>\n",
       "      <td>...</td>\n",
       "      <td>...</td>\n",
       "      <td>...</td>\n",
       "      <td>...</td>\n",
       "      <td>...</td>\n",
       "      <td>...</td>\n",
       "      <td>...</td>\n",
       "      <td>...</td>\n",
       "    </tr>\n",
       "    <tr>\n",
       "      <th>4986</th>\n",
       "      <td>EMP4987</td>\n",
       "      <td>31</td>\n",
       "      <td>Prefer not to say</td>\n",
       "      <td>Sales</td>\n",
       "      <td>Manufacturing</td>\n",
       "      <td>5</td>\n",
       "      <td>Onsite</td>\n",
       "      <td>52</td>\n",
       "      <td>10</td>\n",
       "      <td>1</td>\n",
       "      <td>Low</td>\n",
       "      <td>NaN</td>\n",
       "      <td>No</td>\n",
       "      <td>No Change</td>\n",
       "      <td>1</td>\n",
       "      <td>Satisfied</td>\n",
       "      <td>2</td>\n",
       "      <td>Weekly</td>\n",
       "      <td>Good</td>\n",
       "      <td>Africa</td>\n",
       "    </tr>\n",
       "    <tr>\n",
       "      <th>4988</th>\n",
       "      <td>EMP4989</td>\n",
       "      <td>53</td>\n",
       "      <td>Prefer not to say</td>\n",
       "      <td>Sales</td>\n",
       "      <td>IT</td>\n",
       "      <td>21</td>\n",
       "      <td>Remote</td>\n",
       "      <td>26</td>\n",
       "      <td>0</td>\n",
       "      <td>5</td>\n",
       "      <td>Medium</td>\n",
       "      <td>NaN</td>\n",
       "      <td>No</td>\n",
       "      <td>Increase</td>\n",
       "      <td>3</td>\n",
       "      <td>Neutral</td>\n",
       "      <td>3</td>\n",
       "      <td>Weekly</td>\n",
       "      <td>Poor</td>\n",
       "      <td>Africa</td>\n",
       "    </tr>\n",
       "    <tr>\n",
       "      <th>4990</th>\n",
       "      <td>EMP4991</td>\n",
       "      <td>58</td>\n",
       "      <td>Prefer not to say</td>\n",
       "      <td>Project Manager</td>\n",
       "      <td>Consulting</td>\n",
       "      <td>10</td>\n",
       "      <td>Onsite</td>\n",
       "      <td>45</td>\n",
       "      <td>10</td>\n",
       "      <td>1</td>\n",
       "      <td>High</td>\n",
       "      <td>NaN</td>\n",
       "      <td>Yes</td>\n",
       "      <td>Increase</td>\n",
       "      <td>5</td>\n",
       "      <td>Unsatisfied</td>\n",
       "      <td>3</td>\n",
       "      <td>NaN</td>\n",
       "      <td>Poor</td>\n",
       "      <td>Africa</td>\n",
       "    </tr>\n",
       "    <tr>\n",
       "      <th>4993</th>\n",
       "      <td>EMP4994</td>\n",
       "      <td>35</td>\n",
       "      <td>Non-binary</td>\n",
       "      <td>Marketing</td>\n",
       "      <td>Retail</td>\n",
       "      <td>12</td>\n",
       "      <td>Hybrid</td>\n",
       "      <td>32</td>\n",
       "      <td>13</td>\n",
       "      <td>5</td>\n",
       "      <td>Medium</td>\n",
       "      <td>NaN</td>\n",
       "      <td>Yes</td>\n",
       "      <td>Decrease</td>\n",
       "      <td>2</td>\n",
       "      <td>Satisfied</td>\n",
       "      <td>3</td>\n",
       "      <td>Daily</td>\n",
       "      <td>Good</td>\n",
       "      <td>Asia</td>\n",
       "    </tr>\n",
       "    <tr>\n",
       "      <th>4998</th>\n",
       "      <td>EMP4999</td>\n",
       "      <td>27</td>\n",
       "      <td>Female</td>\n",
       "      <td>Sales</td>\n",
       "      <td>Healthcare</td>\n",
       "      <td>26</td>\n",
       "      <td>Remote</td>\n",
       "      <td>58</td>\n",
       "      <td>0</td>\n",
       "      <td>5</td>\n",
       "      <td>Low</td>\n",
       "      <td>NaN</td>\n",
       "      <td>Yes</td>\n",
       "      <td>Increase</td>\n",
       "      <td>3</td>\n",
       "      <td>Unsatisfied</td>\n",
       "      <td>4</td>\n",
       "      <td>Daily</td>\n",
       "      <td>Average</td>\n",
       "      <td>Asia</td>\n",
       "    </tr>\n",
       "  </tbody>\n",
       "</table>\n",
       "<p>1196 rows × 20 columns</p>\n",
       "</div>"
      ],
      "text/plain": [
       "     Employee_ID  Age             Gender           Job_Role       Industry  \\\n",
       "4        EMP0005   49               Male              Sales     Consulting   \n",
       "5        EMP0006   59         Non-binary              Sales             IT   \n",
       "8        EMP0009   56  Prefer not to say     Data Scientist     Healthcare   \n",
       "10       EMP0011   33         Non-binary  Software Engineer        Finance   \n",
       "11       EMP0012   47             Female          Marketing     Consulting   \n",
       "...          ...  ...                ...                ...            ...   \n",
       "4986     EMP4987   31  Prefer not to say              Sales  Manufacturing   \n",
       "4988     EMP4989   53  Prefer not to say              Sales             IT   \n",
       "4990     EMP4991   58  Prefer not to say    Project Manager     Consulting   \n",
       "4993     EMP4994   35         Non-binary          Marketing         Retail   \n",
       "4998     EMP4999   27             Female              Sales     Healthcare   \n",
       "\n",
       "      Years_of_Experience Work_Location  Hours_Worked_Per_Week  \\\n",
       "4                      32        Onsite                     35   \n",
       "5                      31        Hybrid                     39   \n",
       "8                       9        Hybrid                     24   \n",
       "10                     17        Remote                     48   \n",
       "11                     31        Hybrid                     26   \n",
       "...                   ...           ...                    ...   \n",
       "4986                    5        Onsite                     52   \n",
       "4988                   21        Remote                     26   \n",
       "4990                   10        Onsite                     45   \n",
       "4993                   12        Hybrid                     32   \n",
       "4998                   26        Remote                     58   \n",
       "\n",
       "      Number_of_Virtual_Meetings  Work_Life_Balance_Rating Stress_Level  \\\n",
       "4                             12                         2         High   \n",
       "5                              3                         4         High   \n",
       "8                              4                         2         High   \n",
       "10                             3                         3         High   \n",
       "11                            12                         4       Medium   \n",
       "...                          ...                       ...          ...   \n",
       "4986                          10                         1          Low   \n",
       "4988                           0                         5       Medium   \n",
       "4990                          10                         1         High   \n",
       "4993                          13                         5       Medium   \n",
       "4998                           0                         5          Low   \n",
       "\n",
       "     Mental_Health_Condition Access_to_Mental_Health_Resources  \\\n",
       "4                        NaN                               Yes   \n",
       "5                        NaN                                No   \n",
       "8                        NaN                               Yes   \n",
       "10                       NaN                               Yes   \n",
       "11                       NaN                               Yes   \n",
       "...                      ...                               ...   \n",
       "4986                     NaN                                No   \n",
       "4988                     NaN                                No   \n",
       "4990                     NaN                               Yes   \n",
       "4993                     NaN                               Yes   \n",
       "4998                     NaN                               Yes   \n",
       "\n",
       "     Productivity_Change  Social_Isolation_Rating  \\\n",
       "4               Decrease                        3   \n",
       "5               Increase                        5   \n",
       "8               Decrease                        2   \n",
       "10              Decrease                        4   \n",
       "11             No Change                        4   \n",
       "...                  ...                      ...   \n",
       "4986           No Change                        1   \n",
       "4988            Increase                        3   \n",
       "4990            Increase                        5   \n",
       "4993            Decrease                        2   \n",
       "4998            Increase                        3   \n",
       "\n",
       "     Satisfaction_with_Remote_Work  Company_Support_for_Remote_Work  \\\n",
       "4                      Unsatisfied                                3   \n",
       "5                      Unsatisfied                                1   \n",
       "8                      Unsatisfied                                4   \n",
       "10                       Satisfied                                2   \n",
       "11                         Neutral                                3   \n",
       "...                            ...                              ...   \n",
       "4986                     Satisfied                                2   \n",
       "4988                       Neutral                                3   \n",
       "4990                   Unsatisfied                                3   \n",
       "4993                     Satisfied                                3   \n",
       "4998                   Unsatisfied                                4   \n",
       "\n",
       "     Physical_Activity Sleep_Quality         Region  \n",
       "4               Weekly       Average  North America  \n",
       "5                  NaN       Average  South America  \n",
       "8                Daily          Poor         Europe  \n",
       "10              Weekly       Average        Oceania  \n",
       "11              Weekly          Poor         Africa  \n",
       "...                ...           ...            ...  \n",
       "4986            Weekly          Good         Africa  \n",
       "4988            Weekly          Poor         Africa  \n",
       "4990               NaN          Poor         Africa  \n",
       "4993             Daily          Good           Asia  \n",
       "4998             Daily       Average           Asia  \n",
       "\n",
       "[1196 rows x 20 columns]"
      ]
     },
     "execution_count": 12,
     "metadata": {},
     "output_type": "execute_result"
    }
   ],
   "source": [
    "df[df['Mental_Health_Condition'].isna()]"
   ]
  },
  {
   "cell_type": "code",
   "execution_count": 13,
   "metadata": {},
   "outputs": [
    {
     "data": {
      "text/html": [
       "<div>\n",
       "<style scoped>\n",
       "    .dataframe tbody tr th:only-of-type {\n",
       "        vertical-align: middle;\n",
       "    }\n",
       "\n",
       "    .dataframe tbody tr th {\n",
       "        vertical-align: top;\n",
       "    }\n",
       "\n",
       "    .dataframe thead th {\n",
       "        text-align: right;\n",
       "    }\n",
       "</style>\n",
       "<table border=\"1\" class=\"dataframe\">\n",
       "  <thead>\n",
       "    <tr style=\"text-align: right;\">\n",
       "      <th></th>\n",
       "      <th>Employee_ID</th>\n",
       "      <th>Age</th>\n",
       "      <th>Gender</th>\n",
       "      <th>Job_Role</th>\n",
       "      <th>Industry</th>\n",
       "      <th>Years_of_Experience</th>\n",
       "      <th>Work_Location</th>\n",
       "      <th>Hours_Worked_Per_Week</th>\n",
       "      <th>Number_of_Virtual_Meetings</th>\n",
       "      <th>Work_Life_Balance_Rating</th>\n",
       "      <th>Stress_Level</th>\n",
       "      <th>Mental_Health_Condition</th>\n",
       "      <th>Access_to_Mental_Health_Resources</th>\n",
       "      <th>Productivity_Change</th>\n",
       "      <th>Social_Isolation_Rating</th>\n",
       "      <th>Satisfaction_with_Remote_Work</th>\n",
       "      <th>Company_Support_for_Remote_Work</th>\n",
       "      <th>Physical_Activity</th>\n",
       "      <th>Sleep_Quality</th>\n",
       "      <th>Region</th>\n",
       "    </tr>\n",
       "  </thead>\n",
       "  <tbody>\n",
       "    <tr>\n",
       "      <th>2</th>\n",
       "      <td>EMP0003</td>\n",
       "      <td>59</td>\n",
       "      <td>Non-binary</td>\n",
       "      <td>Software Engineer</td>\n",
       "      <td>Education</td>\n",
       "      <td>22</td>\n",
       "      <td>Hybrid</td>\n",
       "      <td>46</td>\n",
       "      <td>11</td>\n",
       "      <td>5</td>\n",
       "      <td>Medium</td>\n",
       "      <td>Anxiety</td>\n",
       "      <td>No</td>\n",
       "      <td>No Change</td>\n",
       "      <td>4</td>\n",
       "      <td>Unsatisfied</td>\n",
       "      <td>5</td>\n",
       "      <td>NaN</td>\n",
       "      <td>Poor</td>\n",
       "      <td>North America</td>\n",
       "    </tr>\n",
       "    <tr>\n",
       "      <th>3</th>\n",
       "      <td>EMP0004</td>\n",
       "      <td>27</td>\n",
       "      <td>Male</td>\n",
       "      <td>Software Engineer</td>\n",
       "      <td>Finance</td>\n",
       "      <td>20</td>\n",
       "      <td>Onsite</td>\n",
       "      <td>32</td>\n",
       "      <td>8</td>\n",
       "      <td>4</td>\n",
       "      <td>High</td>\n",
       "      <td>Depression</td>\n",
       "      <td>Yes</td>\n",
       "      <td>Increase</td>\n",
       "      <td>3</td>\n",
       "      <td>Unsatisfied</td>\n",
       "      <td>3</td>\n",
       "      <td>NaN</td>\n",
       "      <td>Poor</td>\n",
       "      <td>Europe</td>\n",
       "    </tr>\n",
       "    <tr>\n",
       "      <th>5</th>\n",
       "      <td>EMP0006</td>\n",
       "      <td>59</td>\n",
       "      <td>Non-binary</td>\n",
       "      <td>Sales</td>\n",
       "      <td>IT</td>\n",
       "      <td>31</td>\n",
       "      <td>Hybrid</td>\n",
       "      <td>39</td>\n",
       "      <td>3</td>\n",
       "      <td>4</td>\n",
       "      <td>High</td>\n",
       "      <td>NaN</td>\n",
       "      <td>No</td>\n",
       "      <td>Increase</td>\n",
       "      <td>5</td>\n",
       "      <td>Unsatisfied</td>\n",
       "      <td>1</td>\n",
       "      <td>NaN</td>\n",
       "      <td>Average</td>\n",
       "      <td>South America</td>\n",
       "    </tr>\n",
       "    <tr>\n",
       "      <th>7</th>\n",
       "      <td>EMP0008</td>\n",
       "      <td>42</td>\n",
       "      <td>Non-binary</td>\n",
       "      <td>Data Scientist</td>\n",
       "      <td>Manufacturing</td>\n",
       "      <td>6</td>\n",
       "      <td>Onsite</td>\n",
       "      <td>54</td>\n",
       "      <td>7</td>\n",
       "      <td>3</td>\n",
       "      <td>Medium</td>\n",
       "      <td>Depression</td>\n",
       "      <td>No</td>\n",
       "      <td>Decrease</td>\n",
       "      <td>5</td>\n",
       "      <td>Satisfied</td>\n",
       "      <td>4</td>\n",
       "      <td>NaN</td>\n",
       "      <td>Average</td>\n",
       "      <td>North America</td>\n",
       "    </tr>\n",
       "    <tr>\n",
       "      <th>25</th>\n",
       "      <td>EMP0026</td>\n",
       "      <td>49</td>\n",
       "      <td>Male</td>\n",
       "      <td>Project Manager</td>\n",
       "      <td>Healthcare</td>\n",
       "      <td>23</td>\n",
       "      <td>Onsite</td>\n",
       "      <td>21</td>\n",
       "      <td>14</td>\n",
       "      <td>4</td>\n",
       "      <td>High</td>\n",
       "      <td>Burnout</td>\n",
       "      <td>No</td>\n",
       "      <td>No Change</td>\n",
       "      <td>4</td>\n",
       "      <td>Neutral</td>\n",
       "      <td>3</td>\n",
       "      <td>NaN</td>\n",
       "      <td>Good</td>\n",
       "      <td>South America</td>\n",
       "    </tr>\n",
       "    <tr>\n",
       "      <th>...</th>\n",
       "      <td>...</td>\n",
       "      <td>...</td>\n",
       "      <td>...</td>\n",
       "      <td>...</td>\n",
       "      <td>...</td>\n",
       "      <td>...</td>\n",
       "      <td>...</td>\n",
       "      <td>...</td>\n",
       "      <td>...</td>\n",
       "      <td>...</td>\n",
       "      <td>...</td>\n",
       "      <td>...</td>\n",
       "      <td>...</td>\n",
       "      <td>...</td>\n",
       "      <td>...</td>\n",
       "      <td>...</td>\n",
       "      <td>...</td>\n",
       "      <td>...</td>\n",
       "      <td>...</td>\n",
       "      <td>...</td>\n",
       "    </tr>\n",
       "    <tr>\n",
       "      <th>4983</th>\n",
       "      <td>EMP4984</td>\n",
       "      <td>39</td>\n",
       "      <td>Prefer not to say</td>\n",
       "      <td>Software Engineer</td>\n",
       "      <td>IT</td>\n",
       "      <td>11</td>\n",
       "      <td>Hybrid</td>\n",
       "      <td>50</td>\n",
       "      <td>10</td>\n",
       "      <td>3</td>\n",
       "      <td>Low</td>\n",
       "      <td>Anxiety</td>\n",
       "      <td>No</td>\n",
       "      <td>Decrease</td>\n",
       "      <td>2</td>\n",
       "      <td>Neutral</td>\n",
       "      <td>5</td>\n",
       "      <td>NaN</td>\n",
       "      <td>Good</td>\n",
       "      <td>Europe</td>\n",
       "    </tr>\n",
       "    <tr>\n",
       "      <th>4984</th>\n",
       "      <td>EMP4985</td>\n",
       "      <td>54</td>\n",
       "      <td>Non-binary</td>\n",
       "      <td>Designer</td>\n",
       "      <td>IT</td>\n",
       "      <td>8</td>\n",
       "      <td>Onsite</td>\n",
       "      <td>49</td>\n",
       "      <td>0</td>\n",
       "      <td>2</td>\n",
       "      <td>Medium</td>\n",
       "      <td>NaN</td>\n",
       "      <td>No</td>\n",
       "      <td>Decrease</td>\n",
       "      <td>4</td>\n",
       "      <td>Satisfied</td>\n",
       "      <td>3</td>\n",
       "      <td>NaN</td>\n",
       "      <td>Poor</td>\n",
       "      <td>Africa</td>\n",
       "    </tr>\n",
       "    <tr>\n",
       "      <th>4990</th>\n",
       "      <td>EMP4991</td>\n",
       "      <td>58</td>\n",
       "      <td>Prefer not to say</td>\n",
       "      <td>Project Manager</td>\n",
       "      <td>Consulting</td>\n",
       "      <td>10</td>\n",
       "      <td>Onsite</td>\n",
       "      <td>45</td>\n",
       "      <td>10</td>\n",
       "      <td>1</td>\n",
       "      <td>High</td>\n",
       "      <td>NaN</td>\n",
       "      <td>Yes</td>\n",
       "      <td>Increase</td>\n",
       "      <td>5</td>\n",
       "      <td>Unsatisfied</td>\n",
       "      <td>3</td>\n",
       "      <td>NaN</td>\n",
       "      <td>Poor</td>\n",
       "      <td>Africa</td>\n",
       "    </tr>\n",
       "    <tr>\n",
       "      <th>4996</th>\n",
       "      <td>EMP4997</td>\n",
       "      <td>39</td>\n",
       "      <td>Female</td>\n",
       "      <td>Sales</td>\n",
       "      <td>Healthcare</td>\n",
       "      <td>27</td>\n",
       "      <td>Onsite</td>\n",
       "      <td>48</td>\n",
       "      <td>15</td>\n",
       "      <td>1</td>\n",
       "      <td>Low</td>\n",
       "      <td>Depression</td>\n",
       "      <td>Yes</td>\n",
       "      <td>Decrease</td>\n",
       "      <td>1</td>\n",
       "      <td>Satisfied</td>\n",
       "      <td>1</td>\n",
       "      <td>NaN</td>\n",
       "      <td>Average</td>\n",
       "      <td>Africa</td>\n",
       "    </tr>\n",
       "    <tr>\n",
       "      <th>4999</th>\n",
       "      <td>EMP5000</td>\n",
       "      <td>29</td>\n",
       "      <td>Male</td>\n",
       "      <td>HR</td>\n",
       "      <td>IT</td>\n",
       "      <td>30</td>\n",
       "      <td>Onsite</td>\n",
       "      <td>20</td>\n",
       "      <td>15</td>\n",
       "      <td>1</td>\n",
       "      <td>Low</td>\n",
       "      <td>Depression</td>\n",
       "      <td>Yes</td>\n",
       "      <td>No Change</td>\n",
       "      <td>3</td>\n",
       "      <td>Unsatisfied</td>\n",
       "      <td>5</td>\n",
       "      <td>NaN</td>\n",
       "      <td>Poor</td>\n",
       "      <td>Asia</td>\n",
       "    </tr>\n",
       "  </tbody>\n",
       "</table>\n",
       "<p>1629 rows × 20 columns</p>\n",
       "</div>"
      ],
      "text/plain": [
       "     Employee_ID  Age             Gender           Job_Role       Industry  \\\n",
       "2        EMP0003   59         Non-binary  Software Engineer      Education   \n",
       "3        EMP0004   27               Male  Software Engineer        Finance   \n",
       "5        EMP0006   59         Non-binary              Sales             IT   \n",
       "7        EMP0008   42         Non-binary     Data Scientist  Manufacturing   \n",
       "25       EMP0026   49               Male    Project Manager     Healthcare   \n",
       "...          ...  ...                ...                ...            ...   \n",
       "4983     EMP4984   39  Prefer not to say  Software Engineer             IT   \n",
       "4984     EMP4985   54         Non-binary           Designer             IT   \n",
       "4990     EMP4991   58  Prefer not to say    Project Manager     Consulting   \n",
       "4996     EMP4997   39             Female              Sales     Healthcare   \n",
       "4999     EMP5000   29               Male                 HR             IT   \n",
       "\n",
       "      Years_of_Experience Work_Location  Hours_Worked_Per_Week  \\\n",
       "2                      22        Hybrid                     46   \n",
       "3                      20        Onsite                     32   \n",
       "5                      31        Hybrid                     39   \n",
       "7                       6        Onsite                     54   \n",
       "25                     23        Onsite                     21   \n",
       "...                   ...           ...                    ...   \n",
       "4983                   11        Hybrid                     50   \n",
       "4984                    8        Onsite                     49   \n",
       "4990                   10        Onsite                     45   \n",
       "4996                   27        Onsite                     48   \n",
       "4999                   30        Onsite                     20   \n",
       "\n",
       "      Number_of_Virtual_Meetings  Work_Life_Balance_Rating Stress_Level  \\\n",
       "2                             11                         5       Medium   \n",
       "3                              8                         4         High   \n",
       "5                              3                         4         High   \n",
       "7                              7                         3       Medium   \n",
       "25                            14                         4         High   \n",
       "...                          ...                       ...          ...   \n",
       "4983                          10                         3          Low   \n",
       "4984                           0                         2       Medium   \n",
       "4990                          10                         1         High   \n",
       "4996                          15                         1          Low   \n",
       "4999                          15                         1          Low   \n",
       "\n",
       "     Mental_Health_Condition Access_to_Mental_Health_Resources  \\\n",
       "2                    Anxiety                                No   \n",
       "3                 Depression                               Yes   \n",
       "5                        NaN                                No   \n",
       "7                 Depression                                No   \n",
       "25                   Burnout                                No   \n",
       "...                      ...                               ...   \n",
       "4983                 Anxiety                                No   \n",
       "4984                     NaN                                No   \n",
       "4990                     NaN                               Yes   \n",
       "4996              Depression                               Yes   \n",
       "4999              Depression                               Yes   \n",
       "\n",
       "     Productivity_Change  Social_Isolation_Rating  \\\n",
       "2              No Change                        4   \n",
       "3               Increase                        3   \n",
       "5               Increase                        5   \n",
       "7               Decrease                        5   \n",
       "25             No Change                        4   \n",
       "...                  ...                      ...   \n",
       "4983            Decrease                        2   \n",
       "4984            Decrease                        4   \n",
       "4990            Increase                        5   \n",
       "4996            Decrease                        1   \n",
       "4999           No Change                        3   \n",
       "\n",
       "     Satisfaction_with_Remote_Work  Company_Support_for_Remote_Work  \\\n",
       "2                      Unsatisfied                                5   \n",
       "3                      Unsatisfied                                3   \n",
       "5                      Unsatisfied                                1   \n",
       "7                        Satisfied                                4   \n",
       "25                         Neutral                                3   \n",
       "...                            ...                              ...   \n",
       "4983                       Neutral                                5   \n",
       "4984                     Satisfied                                3   \n",
       "4990                   Unsatisfied                                3   \n",
       "4996                     Satisfied                                1   \n",
       "4999                   Unsatisfied                                5   \n",
       "\n",
       "     Physical_Activity Sleep_Quality         Region  \n",
       "2                  NaN          Poor  North America  \n",
       "3                  NaN          Poor         Europe  \n",
       "5                  NaN       Average  South America  \n",
       "7                  NaN       Average  North America  \n",
       "25                 NaN          Good  South America  \n",
       "...                ...           ...            ...  \n",
       "4983               NaN          Good         Europe  \n",
       "4984               NaN          Poor         Africa  \n",
       "4990               NaN          Poor         Africa  \n",
       "4996               NaN       Average         Africa  \n",
       "4999               NaN          Poor           Asia  \n",
       "\n",
       "[1629 rows x 20 columns]"
      ]
     },
     "execution_count": 13,
     "metadata": {},
     "output_type": "execute_result"
    }
   ],
   "source": [
    "df[df['Physical_Activity'].isna()]"
   ]
  },
  {
   "cell_type": "code",
   "execution_count": 14,
   "metadata": {},
   "outputs": [
    {
     "data": {
      "text/plain": [
       "Index(['Employee_ID', 'Age', 'Gender', 'Job_Role', 'Industry',\n",
       "       'Years_of_Experience', 'Work_Location', 'Hours_Worked_Per_Week',\n",
       "       'Number_of_Virtual_Meetings', 'Work_Life_Balance_Rating',\n",
       "       'Stress_Level', 'Mental_Health_Condition',\n",
       "       'Access_to_Mental_Health_Resources', 'Productivity_Change',\n",
       "       'Social_Isolation_Rating', 'Satisfaction_with_Remote_Work',\n",
       "       'Company_Support_for_Remote_Work', 'Physical_Activity', 'Sleep_Quality',\n",
       "       'Region'],\n",
       "      dtype='object')"
      ]
     },
     "execution_count": 14,
     "metadata": {},
     "output_type": "execute_result"
    }
   ],
   "source": [
    "df.columns"
   ]
  },
  {
   "cell_type": "code",
   "execution_count": 15,
   "metadata": {},
   "outputs": [
    {
     "name": "stdout",
     "output_type": "stream",
     "text": [
      "Age\n",
      "56    51\n",
      "23    43\n",
      "31    39\n",
      "36    37\n",
      "58    36\n",
      "32    35\n",
      "47    35\n",
      "28    35\n",
      "22    34\n",
      "53    33\n",
      "39    33\n",
      "42    32\n",
      "48    31\n",
      "25    31\n",
      "46    31\n",
      "50    31\n",
      "45    31\n",
      "35    31\n",
      "41    30\n",
      "52    30\n",
      "43    30\n",
      "30    30\n",
      "51    30\n",
      "60    30\n",
      "24    30\n",
      "49    29\n",
      "55    29\n",
      "57    29\n",
      "40    29\n",
      "27    27\n",
      "34    26\n",
      "54    25\n",
      "33    25\n",
      "37    24\n",
      "29    24\n",
      "59    23\n",
      "44    23\n",
      "38    23\n",
      "26    21\n",
      "Name: count, dtype: int64\n",
      "Gender\n",
      "Female               315\n",
      "Prefer not to say    308\n",
      "Non-binary           297\n",
      "Male                 276\n",
      "Name: count, dtype: int64\n",
      "Job_Role\n",
      "Marketing            212\n",
      "Designer             189\n",
      "Sales                176\n",
      "Software Engineer    169\n",
      "Project Manager      162\n",
      "HR                   153\n",
      "Data Scientist       135\n",
      "Name: count, dtype: int64\n",
      "Industry\n",
      "Finance          180\n",
      "Manufacturing    177\n",
      "Healthcare       176\n",
      "Education        169\n",
      "IT               167\n",
      "Consulting       164\n",
      "Retail           163\n",
      "Name: count, dtype: int64\n",
      "Years_of_Experience\n",
      "26    46\n",
      "21    42\n",
      "10    42\n",
      "23    40\n",
      "12    40\n",
      "9     40\n",
      "22    38\n",
      "13    38\n",
      "24    37\n",
      "16    36\n",
      "5     36\n",
      "6     36\n",
      "8     36\n",
      "2     36\n",
      "3     36\n",
      "35    35\n",
      "18    34\n",
      "30    34\n",
      "14    34\n",
      "25    34\n",
      "27    34\n",
      "34    34\n",
      "33    33\n",
      "31    32\n",
      "28    31\n",
      "32    30\n",
      "7     30\n",
      "11    30\n",
      "4     30\n",
      "17    28\n",
      "20    28\n",
      "15    28\n",
      "19    28\n",
      "29    27\n",
      "1     23\n",
      "Name: count, dtype: int64\n",
      "Work_Location\n",
      "Remote    420\n",
      "Hybrid    400\n",
      "Onsite    376\n",
      "Name: count, dtype: int64\n",
      "Hours_Worked_Per_Week\n",
      "20    43\n",
      "28    41\n",
      "46    38\n",
      "40    38\n",
      "43    37\n",
      "22    35\n",
      "41    35\n",
      "59    34\n",
      "32    34\n",
      "25    33\n",
      "23    32\n",
      "50    32\n",
      "48    31\n",
      "39    31\n",
      "37    30\n",
      "45    30\n",
      "57    29\n",
      "54    28\n",
      "21    28\n",
      "49    28\n",
      "42    28\n",
      "26    28\n",
      "53    28\n",
      "27    27\n",
      "24    27\n",
      "31    27\n",
      "44    27\n",
      "36    27\n",
      "35    26\n",
      "47    26\n",
      "52    26\n",
      "33    26\n",
      "58    25\n",
      "29    25\n",
      "60    25\n",
      "34    25\n",
      "38    25\n",
      "55    22\n",
      "56    21\n",
      "30    20\n",
      "51    18\n",
      "Name: count, dtype: int64\n",
      "Number_of_Virtual_Meetings\n",
      "9     94\n",
      "10    90\n",
      "15    88\n",
      "0     84\n",
      "14    82\n",
      "2     80\n",
      "6     79\n",
      "12    77\n",
      "13    74\n",
      "7     69\n",
      "1     68\n",
      "8     68\n",
      "3     67\n",
      "4     66\n",
      "5     63\n",
      "11    47\n",
      "Name: count, dtype: int64\n",
      "Work_Life_Balance_Rating\n",
      "1    254\n",
      "3    250\n",
      "5    242\n",
      "4    228\n",
      "2    222\n",
      "Name: count, dtype: int64\n",
      "Stress_Level\n",
      "Medium    406\n",
      "High      402\n",
      "Low       388\n",
      "Name: count, dtype: int64\n",
      "Series([], Name: count, dtype: int64)\n",
      "Access_to_Mental_Health_Resources\n",
      "No     628\n",
      "Yes    568\n",
      "Name: count, dtype: int64\n",
      "Productivity_Change\n",
      "Decrease     423\n",
      "No Change    391\n",
      "Increase     382\n",
      "Name: count, dtype: int64\n",
      "Social_Isolation_Rating\n",
      "2    260\n",
      "1    243\n",
      "3    234\n",
      "4    234\n",
      "5    225\n",
      "Name: count, dtype: int64\n",
      "Satisfaction_with_Remote_Work\n",
      "Unsatisfied    417\n",
      "Satisfied      390\n",
      "Neutral        389\n",
      "Name: count, dtype: int64\n",
      "Company_Support_for_Remote_Work\n",
      "3    264\n",
      "1    247\n",
      "2    232\n",
      "4    230\n",
      "5    223\n",
      "Name: count, dtype: int64\n",
      "Physical_Activity\n",
      "Weekly    400\n",
      "Daily     394\n",
      "Name: count, dtype: int64\n",
      "Sleep_Quality\n",
      "Good       422\n",
      "Poor       406\n",
      "Average    368\n",
      "Name: count, dtype: int64\n",
      "Region\n",
      "Oceania          215\n",
      "Africa           214\n",
      "Europe           201\n",
      "South America    199\n",
      "North America    189\n",
      "Asia             178\n",
      "Name: count, dtype: int64\n"
     ]
    }
   ],
   "source": [
    "df_Mental_Health_Condition_miss = df[df['Mental_Health_Condition'].isna()]\n",
    "\n",
    "for i in ['Age', 'Gender', 'Job_Role', 'Industry',\n",
    "       'Years_of_Experience', 'Work_Location', 'Hours_Worked_Per_Week',\n",
    "       'Number_of_Virtual_Meetings', 'Work_Life_Balance_Rating',\n",
    "       'Stress_Level', 'Mental_Health_Condition',\n",
    "       'Access_to_Mental_Health_Resources', 'Productivity_Change',\n",
    "       'Social_Isolation_Rating', 'Satisfaction_with_Remote_Work',\n",
    "       'Company_Support_for_Remote_Work', 'Physical_Activity', 'Sleep_Quality',\n",
    "       'Region']:\n",
    "    print(df_Mental_Health_Condition_miss[i].value_counts())"
   ]
  },
  {
   "cell_type": "code",
   "execution_count": 16,
   "metadata": {},
   "outputs": [
    {
     "name": "stdout",
     "output_type": "stream",
     "text": [
      "Age\n",
      "23    54\n",
      "56    52\n",
      "50    52\n",
      "24    48\n",
      "33    48\n",
      "40    47\n",
      "42    46\n",
      "47    46\n",
      "53    46\n",
      "57    45\n",
      "36    45\n",
      "49    45\n",
      "48    45\n",
      "43    45\n",
      "25    45\n",
      "28    45\n",
      "45    44\n",
      "58    44\n",
      "31    43\n",
      "38    42\n",
      "46    42\n",
      "59    42\n",
      "51    41\n",
      "30    39\n",
      "55    39\n",
      "37    38\n",
      "27    38\n",
      "60    38\n",
      "32    38\n",
      "54    38\n",
      "35    37\n",
      "52    37\n",
      "39    37\n",
      "34    36\n",
      "22    35\n",
      "44    34\n",
      "29    32\n",
      "41    31\n",
      "26    30\n",
      "Name: count, dtype: int64\n",
      "Gender\n",
      "Male                 446\n",
      "Prefer not to say    410\n",
      "Female               405\n",
      "Non-binary           368\n",
      "Name: count, dtype: int64\n",
      "Job_Role\n",
      "Software Engineer    246\n",
      "Data Scientist       243\n",
      "Marketing            236\n",
      "Designer             230\n",
      "Sales                227\n",
      "Project Manager      225\n",
      "HR                   222\n",
      "Name: count, dtype: int64\n",
      "Industry\n",
      "Finance          255\n",
      "Consulting       241\n",
      "Healthcare       237\n",
      "IT               234\n",
      "Retail           225\n",
      "Education        223\n",
      "Manufacturing    214\n",
      "Name: count, dtype: int64\n",
      "Years_of_Experience\n",
      "6     57\n",
      "23    57\n",
      "7     56\n",
      "1     55\n",
      "21    54\n",
      "30    53\n",
      "24    53\n",
      "3     51\n",
      "26    51\n",
      "10    51\n",
      "27    49\n",
      "18    49\n",
      "9     48\n",
      "29    48\n",
      "33    47\n",
      "19    46\n",
      "4     46\n",
      "31    46\n",
      "20    45\n",
      "14    45\n",
      "34    45\n",
      "22    44\n",
      "25    44\n",
      "5     44\n",
      "11    44\n",
      "17    43\n",
      "12    42\n",
      "32    42\n",
      "16    42\n",
      "2     41\n",
      "15    40\n",
      "13    39\n",
      "35    39\n",
      "28    38\n",
      "8     35\n",
      "Name: count, dtype: int64\n",
      "Work_Location\n",
      "Onsite    550\n",
      "Remote    543\n",
      "Hybrid    536\n",
      "Name: count, dtype: int64\n",
      "Hours_Worked_Per_Week\n",
      "49    54\n",
      "28    53\n",
      "33    49\n",
      "47    48\n",
      "20    47\n",
      "36    47\n",
      "45    46\n",
      "48    46\n",
      "40    45\n",
      "32    44\n",
      "27    43\n",
      "24    43\n",
      "29    43\n",
      "60    42\n",
      "42    42\n",
      "31    42\n",
      "21    41\n",
      "22    41\n",
      "41    41\n",
      "35    41\n",
      "44    40\n",
      "56    39\n",
      "54    39\n",
      "39    38\n",
      "59    38\n",
      "53    38\n",
      "25    38\n",
      "38    38\n",
      "46    37\n",
      "55    37\n",
      "30    37\n",
      "50    37\n",
      "37    34\n",
      "57    33\n",
      "51    32\n",
      "58    32\n",
      "34    31\n",
      "23    30\n",
      "43    29\n",
      "26    28\n",
      "52    26\n",
      "Name: count, dtype: int64\n",
      "Number_of_Virtual_Meetings\n",
      "15    134\n",
      "9     117\n",
      "0     113\n",
      "7     110\n",
      "8     105\n",
      "12    103\n",
      "2     100\n",
      "5     100\n",
      "10    100\n",
      "14     99\n",
      "11     95\n",
      "4      92\n",
      "13     91\n",
      "3      91\n",
      "1      90\n",
      "6      89\n",
      "Name: count, dtype: int64\n",
      "Work_Life_Balance_Rating\n",
      "3    370\n",
      "2    327\n",
      "5    317\n",
      "1    311\n",
      "4    304\n",
      "Name: count, dtype: int64\n",
      "Stress_Level\n",
      "High      557\n",
      "Low       539\n",
      "Medium    533\n",
      "Name: count, dtype: int64\n",
      "Mental_Health_Condition\n",
      "Burnout       426\n",
      "Depression    420\n",
      "Anxiety       381\n",
      "Name: count, dtype: int64\n",
      "Access_to_Mental_Health_Resources\n",
      "No     838\n",
      "Yes    791\n",
      "Name: count, dtype: int64\n",
      "Productivity_Change\n",
      "Decrease     566\n",
      "Increase     536\n",
      "No Change    527\n",
      "Name: count, dtype: int64\n",
      "Social_Isolation_Rating\n",
      "4    355\n",
      "2    333\n",
      "1    326\n",
      "3    310\n",
      "5    305\n",
      "Name: count, dtype: int64\n",
      "Satisfaction_with_Remote_Work\n",
      "Unsatisfied    554\n",
      "Satisfied      540\n",
      "Neutral        535\n",
      "Name: count, dtype: int64\n",
      "Company_Support_for_Remote_Work\n",
      "3    339\n",
      "5    335\n",
      "4    329\n",
      "1    317\n",
      "2    309\n",
      "Name: count, dtype: int64\n",
      "Series([], Name: count, dtype: int64)\n",
      "Sleep_Quality\n",
      "Poor       554\n",
      "Good       551\n",
      "Average    524\n",
      "Name: count, dtype: int64\n",
      "Region\n",
      "Asia             285\n",
      "Europe           283\n",
      "South America    275\n",
      "Oceania          267\n",
      "North America    260\n",
      "Africa           259\n",
      "Name: count, dtype: int64\n"
     ]
    }
   ],
   "source": [
    "df_Physical_Activity_miss = df[df['Physical_Activity'].isna()]\n",
    "\n",
    "for i in ['Age', 'Gender', 'Job_Role', 'Industry',\n",
    "       'Years_of_Experience', 'Work_Location', 'Hours_Worked_Per_Week',\n",
    "       'Number_of_Virtual_Meetings', 'Work_Life_Balance_Rating',\n",
    "       'Stress_Level', 'Mental_Health_Condition',\n",
    "       'Access_to_Mental_Health_Resources', 'Productivity_Change',\n",
    "       'Social_Isolation_Rating', 'Satisfaction_with_Remote_Work',\n",
    "       'Company_Support_for_Remote_Work', 'Physical_Activity', 'Sleep_Quality',\n",
    "       'Region']:\n",
    "    print(df_Physical_Activity_miss[i].value_counts())"
   ]
  },
  {
   "cell_type": "markdown",
   "metadata": {},
   "source": [
    "INSIGHT:\n",
    "- Dari hasil pengecekan columns yang terdapat missing values terhadap columns lainnya, dianggap sebagai MCAR (Missing Completely at Random). Karena keberadaan missing values sebenarnya tidak tergantung pada values yang ada di dalam colums lain, missing value tersebar secara acak / tidak ada pola tertentu baik pada columns `Mental_Health_Condition` maupun `Physical_Activity`.\n",
    "- Selanjutnya, untuk handling missing values pada columns `Mental_Health_Condition` dan `Physical_Activity` akan diubah menjadi `Unknown`, hal ini dikarenakan tidak adanya korelasi pola antara 1 dengan yang lainnya."
   ]
  },
  {
   "cell_type": "markdown",
   "metadata": {},
   "source": [
    "# iv. Data Cleaning"
   ]
  },
  {
   "cell_type": "code",
   "execution_count": 17,
   "metadata": {},
   "outputs": [
    {
     "name": "stdout",
     "output_type": "stream",
     "text": [
      "Gender: ['Prefer not to say' 'Female' 'Male']\n"
     ]
    }
   ],
   "source": [
    "# Mengganti semua values 'Non-binary' menjadi 'Prefer not to say' pada column Gender\n",
    "df['Gender'] = df['Gender'].replace('Non-binary', 'Prefer not to say')\n",
    "print(f\"Gender: {df['Gender'].unique()}\")"
   ]
  },
  {
   "cell_type": "code",
   "execution_count": 18,
   "metadata": {},
   "outputs": [
    {
     "name": "stdout",
     "output_type": "stream",
     "text": [
      "Mental Health Condition: ['Depression' 'Anxiety' 'Unknown' 'Burnout']\n",
      "Physical Activity: ['Weekly' 'Unknown' 'Daily']\n"
     ]
    }
   ],
   "source": [
    "# Mengganti semua missing value menjadi 'Good' pada column Mental_Health_Condition\n",
    "df['Mental_Health_Condition'] = df['Mental_Health_Condition'].replace({None:'Unknown'}, regex=True)\n",
    "print(f\"Mental Health Condition: {df['Mental_Health_Condition'].unique()}\")\n",
    "\n",
    "# Mengganti semua missing value menjadi 'No Activity' pada column Physical_Activity\n",
    "df['Physical_Activity'] = df['Physical_Activity'].replace({None:'Unknown'}, regex=True)\n",
    "print(f\"Physical Activity: {df['Physical_Activity'].unique()}\")"
   ]
  },
  {
   "cell_type": "code",
   "execution_count": 19,
   "metadata": {},
   "outputs": [
    {
     "data": {
      "text/plain": [
       "Employee_ID                          0\n",
       "Age                                  0\n",
       "Gender                               0\n",
       "Job_Role                             0\n",
       "Industry                             0\n",
       "Years_of_Experience                  0\n",
       "Work_Location                        0\n",
       "Hours_Worked_Per_Week                0\n",
       "Number_of_Virtual_Meetings           0\n",
       "Work_Life_Balance_Rating             0\n",
       "Stress_Level                         0\n",
       "Mental_Health_Condition              0\n",
       "Access_to_Mental_Health_Resources    0\n",
       "Productivity_Change                  0\n",
       "Social_Isolation_Rating              0\n",
       "Satisfaction_with_Remote_Work        0\n",
       "Company_Support_for_Remote_Work      0\n",
       "Physical_Activity                    0\n",
       "Sleep_Quality                        0\n",
       "Region                               0\n",
       "dtype: int64"
      ]
     },
     "execution_count": 19,
     "metadata": {},
     "output_type": "execute_result"
    }
   ],
   "source": [
    "df.isna().sum()"
   ]
  },
  {
   "cell_type": "code",
   "execution_count": 20,
   "metadata": {},
   "outputs": [
    {
     "name": "stdout",
     "output_type": "stream",
     "text": [
      "<class 'pandas.core.frame.DataFrame'>\n",
      "RangeIndex: 5000 entries, 0 to 4999\n",
      "Data columns (total 20 columns):\n",
      " #   Column                             Non-Null Count  Dtype \n",
      "---  ------                             --------------  ----- \n",
      " 0   Employee_ID                        5000 non-null   object\n",
      " 1   Age                                5000 non-null   int64 \n",
      " 2   Gender                             5000 non-null   object\n",
      " 3   Job_Role                           5000 non-null   object\n",
      " 4   Industry                           5000 non-null   object\n",
      " 5   Years_of_Experience                5000 non-null   int64 \n",
      " 6   Work_Location                      5000 non-null   object\n",
      " 7   Hours_Worked_Per_Week              5000 non-null   int64 \n",
      " 8   Number_of_Virtual_Meetings         5000 non-null   int64 \n",
      " 9   Work_Life_Balance_Rating           5000 non-null   int64 \n",
      " 10  Stress_Level                       5000 non-null   object\n",
      " 11  Mental_Health_Condition            5000 non-null   object\n",
      " 12  Access_to_Mental_Health_Resources  5000 non-null   object\n",
      " 13  Productivity_Change                5000 non-null   object\n",
      " 14  Social_Isolation_Rating            5000 non-null   int64 \n",
      " 15  Satisfaction_with_Remote_Work      5000 non-null   object\n",
      " 16  Company_Support_for_Remote_Work    5000 non-null   int64 \n",
      " 17  Physical_Activity                  5000 non-null   object\n",
      " 18  Sleep_Quality                      5000 non-null   object\n",
      " 19  Region                             5000 non-null   object\n",
      "dtypes: int64(7), object(13)\n",
      "memory usage: 781.4+ KB\n"
     ]
    }
   ],
   "source": [
    "df.info()"
   ]
  },
  {
   "cell_type": "code",
   "execution_count": 21,
   "metadata": {},
   "outputs": [
    {
     "name": "stdout",
     "output_type": "stream",
     "text": [
      "\n",
      "Employee_ID\n",
      "['EMP0001' 'EMP0002' 'EMP0003' ... 'EMP4998' 'EMP4999' 'EMP5000']\n",
      "\n",
      "Age\n",
      "[32 40 59 27 49 31 42 56 30 33 47 51 36 45 26 43 53 22 37 48 46 24 54 57\n",
      " 35 60 25 50 28 23 38 29 58 55 41 44 34 52 39]\n",
      "\n",
      "Gender\n",
      "['Prefer not to say' 'Female' 'Male']\n",
      "\n",
      "Job_Role\n",
      "['HR' 'Data Scientist' 'Software Engineer' 'Sales' 'Marketing' 'Designer'\n",
      " 'Project Manager']\n",
      "\n",
      "Industry\n",
      "['Healthcare' 'IT' 'Education' 'Finance' 'Consulting' 'Manufacturing'\n",
      " 'Retail']\n",
      "\n",
      "Years_of_Experience\n",
      "[13  3 22 20 32 31 24  6  9 28 17  1  5 23 30 33 21 11 34  4 29 27 10 18\n",
      " 14 26 12  7 25  8 15 35  2 19 16]\n",
      "\n",
      "Work_Location\n",
      "['Hybrid' 'Remote' 'Onsite']\n",
      "\n",
      "Hours_Worked_Per_Week\n",
      "[47 52 46 32 35 39 51 54 24 57 48 26 21 45 59 44 37 36 22 56 33 25 20 30\n",
      " 29 58 53 23 42 28 31 55 49 43 27 38 60 50 34 41 40]\n",
      "\n",
      "Number_of_Virtual_Meetings\n",
      "[ 7  4 11  8 12  3  6 13  9  1 15 14 10  2  0  5]\n",
      "\n",
      "Work_Life_Balance_Rating\n",
      "[2 1 5 4 3]\n",
      "\n",
      "Stress_Level\n",
      "['Medium' 'High' 'Low']\n",
      "\n",
      "Mental_Health_Condition\n",
      "['Depression' 'Anxiety' 'Unknown' 'Burnout']\n",
      "\n",
      "Access_to_Mental_Health_Resources\n",
      "['No' 'Yes']\n",
      "\n",
      "Productivity_Change\n",
      "['Decrease' 'Increase' 'No Change']\n",
      "\n",
      "Social_Isolation_Rating\n",
      "[1 3 4 5 2]\n",
      "\n",
      "Satisfaction_with_Remote_Work\n",
      "['Unsatisfied' 'Satisfied' 'Neutral']\n",
      "\n",
      "Company_Support_for_Remote_Work\n",
      "[1 2 5 3 4]\n",
      "\n",
      "Physical_Activity\n",
      "['Weekly' 'Unknown' 'Daily']\n",
      "\n",
      "Sleep_Quality\n",
      "['Good' 'Poor' 'Average']\n",
      "\n",
      "Region\n",
      "['Europe' 'Asia' 'North America' 'South America' 'Oceania' 'Africa']\n"
     ]
    }
   ],
   "source": [
    "for kolom in df.columns:\n",
    "    print()\n",
    "    print(kolom)\n",
    "    print(df[kolom].unique())"
   ]
  },
  {
   "cell_type": "markdown",
   "metadata": {},
   "source": [
    "INSIGHT:\n",
    "- Pada column `Gender`, sekarang terlihat hanya ada 3 values saja.\n",
    "- Pada column `Mental_Health_Condition`, missing values sudah diganti menjadi kategori `Good`.\n",
    "- Pada column `Physical_Activity`, missing values sudah diganti menjadi `No Activity`."
   ]
  },
  {
   "cell_type": "code",
   "execution_count": 22,
   "metadata": {},
   "outputs": [],
   "source": [
    "# Copy DataFrame yang sudah di-cleaning ke bentuk variable baru untuk penyimpanan\n",
    "df_clean = df.copy()"
   ]
  },
  {
   "cell_type": "code",
   "execution_count": 23,
   "metadata": {},
   "outputs": [],
   "source": [
    "df_clean.to_csv('df_clean.csv', index=False)"
   ]
  },
  {
   "cell_type": "markdown",
   "metadata": {},
   "source": [
    "# v. Analisis dan Perhitungan"
   ]
  },
  {
   "cell_type": "markdown",
   "metadata": {},
   "source": [
    "## A. Work-Life Balance and Stress Levels"
   ]
  },
  {
   "cell_type": "markdown",
   "metadata": {},
   "source": [
    "### 1. Pengaruh distribusi Work-Life Balance Rating di antara pekerja"
   ]
  },
  {
   "cell_type": "code",
   "execution_count": 24,
   "metadata": {},
   "outputs": [
    {
     "name": "stdout",
     "output_type": "stream",
     "text": [
      "Work_Life_Balance_Rating\n",
      "3    1053\n",
      "1    1023\n",
      "4     980\n",
      "5     977\n",
      "2     967\n",
      "Name: count, dtype: int64\n"
     ]
    }
   ],
   "source": [
    "# Melihat distribusi Work_Life_Balance_Rating\n",
    "distribution = df['Work_Life_Balance_Rating'].value_counts()\n",
    "print(distribution)"
   ]
  },
  {
   "cell_type": "markdown",
   "metadata": {},
   "source": [
    "INSIGHT:\n",
    "- Sebanyak 1053 pekerja yang memiliki rating 3, ini artinya mayoritas pekerja merasa work-life balance-nya cenderung berada pada level menengah.\n",
    "- Rating 1 sebagai terbanyak kedua, yaitu 1023 pekerja, artinya masih ada banyak pekerja yang merasa bahwa work-life balance-nya sangat tidak memadai. Ini bisa menjadi area yang perlu ditangani oleh perusahaan untuk meningkatkan kesejahteraan pekerjanya.\n",
    " "
   ]
  },
  {
   "cell_type": "code",
   "execution_count": null,
   "metadata": {},
   "outputs": [
    {
     "name": "stderr",
     "output_type": "stream",
     "text": [
      "C:\\Users\\ferry\\AppData\\Local\\Temp\\ipykernel_19520\\670045487.py:2: FutureWarning: \n",
      "\n",
      "Passing `palette` without assigning `hue` is deprecated and will be removed in v0.14.0. Assign the `x` variable to `hue` and set `legend=False` for the same effect.\n",
      "\n",
      "  sns.countplot(x='Work_Life_Balance_Rating', data=df, palette='Blues')\n"
     ]
    },
    {
     "data": {
      "image/png": "[encoded data removed]",
      "text/plain": [
       "<Figure size 640x480 with 1 Axes>"
      ]
     },
     "metadata": {},
     "output_type": "display_data"
    }
   ],
   "source": [
    "# Plot distribusi Work_Life_Balance_Rating\n",
    "sns.countplot(x='Work_Life_Balance_Rating', data=df, palette='Blues')\n",
    "\n",
    "# Menambahkan judul dan label\n",
    "plt.title('Distribusi Work-Life Balance Rating')\n",
    "plt.xlabel('Work-Life Balance Rating')\n",
    "plt.ylabel('Jumlah Pekerja')\n",
    "\n",
    "# Menampilkan plot\n",
    "plt.show()"
   ]
  },
  {
   "cell_type": "markdown",
   "metadata": {},
   "source": [
    "INSIGHT:\n",
    "- Terlihat jumlah pekerja yang memberikan rating rendah (1 dan 2) cukup signifikan, artinya ada banyak pekerja yang merasa kurang puas dengan work-life balance-nya. Sebaliknya, jumlah pekerja yang memberikan rating tinggi (4 dan 5) cenderung lebih rendah, meskipun rating 5 masih menunjukkan ada kelompok yang merasa sangat puas.\n",
    "- Rating 3 menunjukkan mayoritas pekerja berada dalam posisi netral. "
   ]
  },
  {
   "cell_type": "markdown",
   "metadata": {},
   "source": [
    "### 2. Distribusi stress level pekerja berdasarkan jenis pekerjaan dan lokasi kerja"
   ]
  },
  {
   "cell_type": "code",
   "execution_count": 26,
   "metadata": {},
   "outputs": [
    {
     "name": "stdout",
     "output_type": "stream",
     "text": [
      "Stress_Level       High  Low  Medium\n",
      "Job_Role                            \n",
      "Data Scientist      242  230     224\n",
      "Designer            252  259     212\n",
      "HR                  227  241     248\n",
      "Marketing           225  221     237\n",
      "Project Manager     253  228     257\n",
      "Sales               253  241     239\n",
      "Software Engineer   234  225     252\n"
     ]
    }
   ],
   "source": [
    "# Distribusi Stress_Level berdasarkan Job_Role\n",
    "stress_by_job_role = df.groupby('Job_Role')['Stress_Level'].value_counts().unstack()\n",
    "\n",
    "# Menampilkan distribusi\n",
    "print(stress_by_job_role)"
   ]
  },
  {
   "cell_type": "markdown",
   "metadata": {},
   "source": [
    "INSIGHT:\n",
    "- Beberapa role seperti `Sales` dan `Project Manager` memiliki jumlah stres yang lebih tinggi dalam kategori `High`, yang mungkin menunjukkan kalau pada role tersebut memiliki tantangan yang lebih besar dan mungkin perlu dukungan lebih dalam hal kesehatan mental.\n",
    "- `Designer` memiliki jumlah tertinggi untuk kategori `Low`."
   ]
  },
  {
   "cell_type": "code",
   "execution_count": 27,
   "metadata": {},
   "outputs": [
    {
     "name": "stdout",
     "output_type": "stream",
     "text": [
      "Stress_Level   High  Low  Medium\n",
      "Work_Location                   \n",
      "Hybrid          561  543     545\n",
      "Onsite          535  555     547\n",
      "Remote          590  547     577\n"
     ]
    }
   ],
   "source": [
    "# Distribusi Stress_Level berdasarkan Work_Location\n",
    "stress_by_work_location = df.groupby('Work_Location')['Stress_Level'].value_counts().unstack()\n",
    "\n",
    "# Menampilkan distribusi\n",
    "print(stress_by_work_location)"
   ]
  },
  {
   "cell_type": "markdown",
   "metadata": {},
   "source": [
    "INSIGHT: `Remote` memiliki jumlah pekerja dengan stress level `High` tertinggi, yaitu sebesar590, dibandingkan dengan `Hybrid` (561) dan `Onsite` (535). Ini menunjukkan bahwa meskipun bekerja secara remote memberikan fleksibilitas, ada tantangan tertentu yang mungkin menyebabkan tingkat stres yang lebih tinggi, seperti isolasi sosial atau kesulitan dalam work-life balance."
   ]
  },
  {
   "cell_type": "code",
   "execution_count": 28,
   "metadata": {},
   "outputs": [
    {
     "data": {
      "image/png": "[encoded data removed]",
      "text/plain": [
       "<Figure size 640x480 with 1 Axes>"
      ]
     },
     "metadata": {},
     "output_type": "display_data"
    }
   ],
   "source": [
    "# Plot distribusi Stress_Level berdasarkan Job_Role\n",
    "stress_by_job_role.plot(kind='bar', stacked=True, color=['lightblue', 'orange', 'lightgreen']).set_ylim(0, 1100)\n",
    "\n",
    "# Menambahkan judul dan label\n",
    "plt.title('Distribusi Stress Level Berdasarkan Job Role')\n",
    "plt.xlabel('Job Role')\n",
    "plt.ylabel('Jumlah Pekerja')\n",
    "plt.legend(title='Stress Level')\n",
    "\n",
    "# Menampilkan plot\n",
    "plt.show()"
   ]
  },
  {
   "cell_type": "markdown",
   "metadata": {},
   "source": [
    "INSIGHT: Terlihat jumlah total pekerja untuk setiap `Job Role`. Memungkinkan untuk melihat perbandingan secara langsung antara stress level dari jumlah pekerja di setiap kategori `Job Role`, seperti Data Scientist, Designer, HR, Marketing, Project Manager, Sales, dan Software Engineer."
   ]
  },
  {
   "cell_type": "code",
   "execution_count": 29,
   "metadata": {},
   "outputs": [
    {
     "data": {
      "image/png": "[encoded data removed]",
      "text/plain": [
       "<Figure size 640x480 with 1 Axes>"
      ]
     },
     "metadata": {},
     "output_type": "display_data"
    }
   ],
   "source": [
    "# Plot distribusi Stress_Level berdasarkan Work_Location\n",
    "stress_by_work_location.plot(kind='bar', stacked=True, color=['lightblue', 'orange', 'lightgreen']).set_ylim(0, 2500)\n",
    "\n",
    "# Menambahkan judul dan label\n",
    "plt.title('Distribusi Stress Level Berdasarkan Lokasi Kerja')\n",
    "plt.xlabel('Work Location')\n",
    "plt.ylabel('Jumlah Pekerja')\n",
    "plt.legend(title='Stress Level')\n",
    "\n",
    "# Menampilkan plot\n",
    "plt.show()"
   ]
  },
  {
   "cell_type": "markdown",
   "metadata": {},
   "source": [
    "INSIGHT: Terlihat jumlah total pekerja untuk setiap `Work Location`. Memungkinkan untuk melihat perbandingan secara langsung antara stress level dari jumlah pekerja di setiap kategori `Work Location`, seperti Hybrid, Onsite, dan Remote."
   ]
  },
  {
   "cell_type": "markdown",
   "metadata": {},
   "source": [
    "### 3. Hubungan Work-Life Balance Rating di antara pekerja dengan lokasi kerja "
   ]
  },
  {
   "cell_type": "markdown",
   "metadata": {},
   "source": [
    "Untuk uji Shapiro-Wilk pada data `Work_Life_Balance_Rating` berdasarkan `Work_Location`, berikut adalah hipotesisnya:\n",
    "- H0: Data `Work_Life_Balance_Rating` pada setiap `Work_Location` berdistribusi normal.\n",
    "- H1: Data `Work_Life_Balance_Rating` pada setiap `Work_Location` tidak berdistribusi normal."
   ]
  },
  {
   "cell_type": "code",
   "execution_count": 30,
   "metadata": {},
   "outputs": [
    {
     "name": "stdout",
     "output_type": "stream",
     "text": [
      "Hybrid p-value: 7.124243221724064e-33\n",
      "Remote p-value: 6.294613669923798e-34\n",
      "Onsite p-value: 2.645208969586617e-32\n"
     ]
    }
   ],
   "source": [
    "# Cek normalitas dengan Shapiro-Wilk test\n",
    "locations = df['Work_Location'].unique()\n",
    "for location in locations:\n",
    "    stat, p = shapiro(df[df['Work_Location'] == location]['Work_Life_Balance_Rating'])\n",
    "    print(f'{location} p-value: {p}')"
   ]
  },
  {
   "cell_type": "markdown",
   "metadata": {},
   "source": [
    "INSIGHT:\n",
    "- Hasil `p-value` untuk ketiga lokasi kerja (Hybrid, Remote, dan Onsite) semuanya jauh di bawah 0.05 (alpha). Dalam konteks uji normalitas, jika `p-value` kurang dari 0.05, artinya terdapat cukup bukti untuk menolak H0, ini berarti bahwa data tidak terdistribusi normal di antara pekerja yang bekerja secara hybrid, remote, maupun onsite.\n",
    "- Karena data tidak terdistribusi normal, uji statistik non-parametrik seperti Kruskal-Wallis lebih cocok digunakan untuk menganalisis perbedaan antar kelompok berdasarkan `Work_Life_Balance_Rating`."
   ]
  },
  {
   "cell_type": "markdown",
   "metadata": {},
   "source": [
    "Kruskal-Wallis Test dilakukan untuk menguji apakah terdapat perbedaan signifikan dalam `Work_Life_Balance_Rating` di antara `Work_Location`, hipotesisnya:\n",
    "- H0: Tidak ada perbedaan signifikan dalam distribusi `Work_Life_Balance_Rating` di antara pekerja dengan lokasi kerja berbeda (Remote, Hybrid, Onsite).\n",
    "- H1: Ada perbedaan signifikan dalam distribusi `Work_Life_Balance_Rating` di antara pekerja dengan lokasi kerja berbeda."
   ]
  },
  {
   "cell_type": "code",
   "execution_count": 31,
   "metadata": {},
   "outputs": [
    {
     "name": "stdout",
     "output_type": "stream",
     "text": [
      "Kruskal-Wallis statistic: 2.3550508569234134\n",
      "p-value: 0.30804006340984985\n"
     ]
    }
   ],
   "source": [
    "# Kruskal-Wallis Test untuk Work_Life_Balance_Rating berdasarkan Work_Location\n",
    "kruskal_result = kruskal(df[df['Work_Location'] == 'Remote']['Work_Life_Balance_Rating'],\n",
    "                         df[df['Work_Location'] == 'Hybrid']['Work_Life_Balance_Rating'],\n",
    "                         df[df['Work_Location'] == 'Onsite']['Work_Life_Balance_Rating'])\n",
    "\n",
    "# Menampilkan hasil Kruskal-Wallis\n",
    "print(f'Kruskal-Wallis statistic: {kruskal_result.statistic}\\np-value: {kruskal_result.pvalue}')"
   ]
  },
  {
   "cell_type": "markdown",
   "metadata": {},
   "source": [
    "INSIGHT: Dengan `p-value` sebesar 0.308, yang mana lebih besar dari 0.05, artinya tidak memiliki cukup bukti untuk menolak H0. Jadi, tidak ada perbedaan signifikan dalam work-life balance rating di antara pekerja yang bekerja secara remote, hybrid, atau onsite. Artinya, lokasi kerja tampaknya tidak mempengaruhi work-life balance pekerja secara signifikan."
   ]
  },
  {
   "cell_type": "markdown",
   "metadata": {},
   "source": [
    "### 4. Korelasi antara jam kerja per minggu dengan stress level"
   ]
  },
  {
   "cell_type": "markdown",
   "metadata": {},
   "source": [
    "Hipotesis untuk uji korelasi spearman:\n",
    "- H0: Tidak ada hubungan (korelasi) antara jumlah jam kerja per minggu (Hours_Worked_Per_Week) dan tingkat stres (Stress_Level).\n",
    "- H1: Ada hubungan (korelasi) antara jumlah jam kerja per minggu (Hours_Worked_Per_Week) dan tingkat stres (Stress_Level)."
   ]
  },
  {
   "cell_type": "code",
   "execution_count": 32,
   "metadata": {},
   "outputs": [
    {
     "name": "stdout",
     "output_type": "stream",
     "text": [
      "Spearman Correlation: 0.016413119026317678\n",
      "p-value: 0.2458978891646061\n"
     ]
    }
   ],
   "source": [
    "# Buat mapping untuk Stress_Level ke numerik\n",
    "stress_mapping = {'Low': 1, 'Medium': 2, 'High': 3}\n",
    "df['Stress_Level_Numeric'] = df['Stress_Level'].map(stress_mapping)\n",
    "\n",
    "# Hitung korelasi Spearman antara Hours_Worked_Per_Week dan Stress_Level_Numeric\n",
    "correlation, p_value = spearmanr(df['Hours_Worked_Per_Week'], df['Stress_Level_Numeric'])\n",
    "\n",
    "print(f\"Spearman Correlation: {correlation}\\np-value: {p_value}\")"
   ]
  },
  {
   "cell_type": "markdown",
   "metadata": {},
   "source": [
    "INSIGHT:\n",
    "- Nilai korelasi Spearman 0.016 menunjukkan hubungan antara jumlah jam kerja per minggu dan stress level sangat lemah dan mendekati nol. Artinya, tidak ada hubungan yang signifikan antara jam kerja dan stress level pekerja berdasarkan data ini.\n",
    "- `p-value` sebesar 0.246 lebih besar dari alpha (0.05), artinya terdapat cukup bukti untuk menolak H0. Ini berarti tidak ada cukup bukti untuk menyimpulkan bahwa jam kerja per minggu mempengaruhi tingkat stres pekerja."
   ]
  },
  {
   "cell_type": "markdown",
   "metadata": {},
   "source": [
    "## B. Mental Health and Company Support"
   ]
  },
  {
   "cell_type": "markdown",
   "metadata": {},
   "source": [
    "### 1. Persebaran kondisi kesehatan mental pekerja berdasarkan industri dan region"
   ]
  },
  {
   "cell_type": "code",
   "execution_count": 33,
   "metadata": {},
   "outputs": [
    {
     "name": "stdout",
     "output_type": "stream",
     "text": [
      "Mental_Health_Condition  Anxiety  Burnout  Depression  Unknown\n",
      "Industry                                                      \n",
      "Consulting                   178      166         172      164\n",
      "Education                    176      174         171      169\n",
      "Finance                      186      202         179      180\n",
      "Healthcare                   160      191         201      176\n",
      "IT                           205      192         182      167\n",
      "Manufacturing                181      175         150      177\n",
      "Retail                       192      180         191      163\n"
     ]
    }
   ],
   "source": [
    "# Tabel kontingensi untuk Mental_Health_Condition berdasarkan Industry\n",
    "mental_health_by_industry = pd.crosstab(df['Industry'], df['Mental_Health_Condition'])\n",
    "print(mental_health_by_industry)"
   ]
  },
  {
   "cell_type": "markdown",
   "metadata": {},
   "source": [
    "INSIGHT:\n",
    "- Setiap industri memiliki pekerja yang mengalami berbagai kondisi kesehatan mental seperti Anxiety, Burnout, Depression, serta Unknown.\n",
    "- Finance memiliki angka tertinggi untuk kondisi Burnout (202 kasus), sedangkan Healthcare memiliki angka tertinggi untuk kondisi Depression (201 kasus), lalu ada IT yang memiliki angka Anxiety tertinggi dengan 205 kasus."
   ]
  },
  {
   "cell_type": "code",
   "execution_count": 34,
   "metadata": {},
   "outputs": [
    {
     "data": {
      "image/png": "[encoded data removed]",
      "text/plain": [
       "<Figure size 1000x600 with 1 Axes>"
      ]
     },
     "metadata": {},
     "output_type": "display_data"
    }
   ],
   "source": [
    "plt.figure(figsize=(10, 6))\n",
    "for condition in mental_health_by_industry.columns:\n",
    "    plt.plot(mental_health_by_industry.index, mental_health_by_industry[condition], label=condition)\n",
    "\n",
    "plt.title('Distribution of Mental Health Condition by Industry')\n",
    "plt.xlabel('Industry')\n",
    "plt.ylabel('Count')\n",
    "plt.xticks(rotation=45)\n",
    "plt.legend(title='Mental Health Condition')\n",
    "plt.grid(True)\n",
    "plt.tight_layout()\n",
    "plt.show()"
   ]
  },
  {
   "cell_type": "markdown",
   "metadata": {},
   "source": [
    "INSIGHT: Menunjukkan bagaimana kondisi kesehatan mental seperti Anxiety, Burnout, Depression, dan Unknown tersebar di berbagai industri. Setiap garis yang direpresentasikan menunjukkan jumlah pekerja yang mengalami masing-masing kondisi kesehatan mental di setiap industri."
   ]
  },
  {
   "cell_type": "code",
   "execution_count": 35,
   "metadata": {},
   "outputs": [
    {
     "name": "stdout",
     "output_type": "stream",
     "text": [
      "Mental_Health_Condition  Anxiety  Burnout  Depression  Unknown\n",
      "Region                                                        \n",
      "Africa                       217      217         212      214\n",
      "Asia                         228      226         197      178\n",
      "Europe                       212      221         206      201\n",
      "North America                196      203         189      189\n",
      "Oceania                      219      218         215      215\n",
      "South America                206      195         227      199\n"
     ]
    }
   ],
   "source": [
    "# Tabel kontingensi untuk Mental_Health_Condition berdasarkan Region\n",
    "mental_health_by_region = pd.crosstab(df['Region'], df['Mental_Health_Condition'])\n",
    "print(mental_health_by_region)"
   ]
  },
  {
   "cell_type": "markdown",
   "metadata": {},
   "source": [
    "INSIGHT:\n",
    "- South America memiliki jumlah kasus Depression yang lebih tinggi dibandingkan region lain, dengan mencatat 227 kasus.\n",
    "- Asia memiliki jumlah kasus Burnout yang lebih tinggi, yaitu tercatat 226 kasus.\n",
    "- Oceania menunjukkan jumlah kasus yang konsisten di antara semua kategori kesehatan mental, dengan jumlah yang hampir sama untuk semua kondisi."
   ]
  },
  {
   "cell_type": "code",
   "execution_count": 36,
   "metadata": {},
   "outputs": [
    {
     "data": {
      "image/png": "[encoded data removed]",
      "text/plain": [
       "<Figure size 1000x600 with 1 Axes>"
      ]
     },
     "metadata": {},
     "output_type": "display_data"
    }
   ],
   "source": [
    "plt.figure(figsize=(10, 6))\n",
    "for condition in mental_health_by_region.columns:\n",
    "    plt.plot(mental_health_by_region.index, mental_health_by_region[condition], label=condition)\n",
    "\n",
    "plt.title('Distribution of Mental Health Condition by Region')\n",
    "plt.xlabel('Region')\n",
    "plt.ylabel('Count')\n",
    "plt.xticks(rotation=45)\n",
    "plt.legend(title='Mental Health Condition')\n",
    "plt.grid(True)\n",
    "plt.tight_layout()\n",
    "plt.show()"
   ]
  },
  {
   "cell_type": "markdown",
   "metadata": {},
   "source": [
    "INSIGHT: Visualisasi menunjukkan perbandingan jumlah kasus untuk masing-masing kondisi kesehatan mental (Anxiety, Burnout, Depression, dan Unknown) di berbagai region. Setiap garis mewakili kondisi kesehatan mental tertentu, memungkinkan untuk mengamati perbedaan dan kesamaan dalam tren di seluruh region."
   ]
  },
  {
   "cell_type": "markdown",
   "metadata": {},
   "source": [
    "### 2. Akses pekerja terhadap sumber daya kesehatan mental di berbagai industri"
   ]
  },
  {
   "cell_type": "code",
   "execution_count": 37,
   "metadata": {},
   "outputs": [
    {
     "name": "stdout",
     "output_type": "stream",
     "text": [
      "Access_to_Mental_Health_Resources   No  Yes\n",
      "Industry                                   \n",
      "Consulting                         331  349\n",
      "Education                          347  343\n",
      "Finance                            390  357\n",
      "Healthcare                         379  349\n",
      "IT                                 387  359\n",
      "Manufacturing                      341  342\n",
      "Retail                             378  348\n"
     ]
    }
   ],
   "source": [
    "# Tabel kontingensi untuk Access_to_Mental_Health_Resources berdasarkan Industry\n",
    "access_by_industry = pd.crosstab(df['Industry'], df['Access_to_Mental_Health_Resources'])\n",
    "print(access_by_industry)"
   ]
  },
  {
   "cell_type": "markdown",
   "metadata": {},
   "source": [
    "INSIGHT:\n",
    "- Industri Finance menunjukkan jumlah pekerja yang tidak memiliki akses ke sumber daya kesehatan mental paling tinggi (390) dibandingkan dengan industri lainnya.Bisa jadi adanya kekurangan dalam dukungan kesehatan mental di sektor keuangan, yang mungkin mempengaruhi kesejahteraan mental pekerjanya.\n",
    "- Sementara industri Consulting memiliki jumlah pekerja dengan akses ke sumber daya kesehatan mental tertinggi (349). Ini menunjukkan bahwa industri Consulting mungkin lebih menyadari pentingnya dukungan kesehatan mental, atau memiliki kebijakan yang lebih baik terkait hal ini."
   ]
  },
  {
   "cell_type": "code",
   "execution_count": 38,
   "metadata": {},
   "outputs": [
    {
     "data": {
      "image/png": "[encoded data removed]",
      "text/plain": [
       "<Figure size 1000x600 with 1 Axes>"
      ]
     },
     "metadata": {},
     "output_type": "display_data"
    }
   ],
   "source": [
    "# Plot bar chart untuk Access_to_Mental_Health_Resources berdasarkan Industry\n",
    "plt.figure(figsize=(10, 6))\n",
    "sns.countplot(x='Industry', hue='Access_to_Mental_Health_Resources', data=df).set_ylim(0, 500)\n",
    "plt.title('Access to Mental Health Resources by Industry')\n",
    "plt.xlabel('Industry')\n",
    "plt.ylabel('Count')\n",
    "plt.xticks(rotation=45)\n",
    "plt.legend(title='Access to Mental Health Resources')\n",
    "plt.grid(True)\n",
    "plt.tight_layout()\n",
    "plt.show()"
   ]
  },
  {
   "cell_type": "markdown",
   "metadata": {},
   "source": [
    "INSIGHT:\n",
    "- Terlihat perbandingan antara jumlah pekerja yang memiliki akses (Yes) dan tidak memiliki akses (No) terhadap sumber daya kesehatan mental dalam setiap industri.\n",
    "- Consulting dan Manufacturing menunjukkan jumlah pekerja yang memiliki akses (Yes) jauh lebih tinggi dibandingkan dengan yang tidak (No), ini menunjukkan bahwa industri tersebut lebih baik dalam menyediakan dukungan kesehatan mental kepada pekerjanya."
   ]
  },
  {
   "cell_type": "markdown",
   "metadata": {},
   "source": [
    "### 3. Hubungan antara akses pekerja terhadap sumber daya kesehatan mental dan kondisi kesehatan mental "
   ]
  },
  {
   "cell_type": "code",
   "execution_count": 39,
   "metadata": {},
   "outputs": [
    {
     "name": "stdout",
     "output_type": "stream",
     "text": [
      "Mental_Health_Condition            Anxiety  Burnout  Depression  Unknown\n",
      "Access_to_Mental_Health_Resources                                       \n",
      "No                                     646      665         614      628\n",
      "Yes                                    632      615         632      568\n"
     ]
    }
   ],
   "source": [
    "# Tabel kontingensi antara Access_to_Mental_Health_Resources dan Mental_Health_Condition\n",
    "contingency_table = pd.crosstab(df['Access_to_Mental_Health_Resources'], df['Mental_Health_Condition'])\n",
    "print(contingency_table)"
   ]
  },
  {
   "cell_type": "markdown",
   "metadata": {},
   "source": [
    "INSIGHT:\n",
    "- Pekerja yang tidak memiliki akses ke sumber daya kesehatan mental (No) memiliki jumlah kasus yang lebih tinggi untuk semua kondisi kesehatan mental dibandingkan dengan pekerja yang memiliki akses (Yes).\n",
    "- Untuk pekerja yang tanpa akses, Burnout dan Anxiety memiliki angka tertinggi, masing-masing 665 dan 646. Ini menunjukkan kurangnya akses dapat berkontribusi pada kondisi mental yang lebih buruk, terutama pada tekanan kerja yang tinggi.\n",
    "- Dalam pekerja dengan akses, Depression dan Anxiety memiliki jumlah yang cukup tinggi, masing-masing 632 dan 632. Artinya meskipun ada akses, masih ada masalah kesehatan mental yang signifikan di kalangan pekerja, ini mungkin mengindikasikan bahwa akses saja tidak cukup untuk mengatasi masalah kesehatan mental."
   ]
  },
  {
   "cell_type": "markdown",
   "metadata": {},
   "source": [
    "Hipotesis untuk uji korelasi Chi-Square:\n",
    "- H0: Tidak ada hubungan (korelasi) antara akses pekerja terhadap sumber daya kesehatan mental dan kondisi kesehatan mental.\n",
    "- H1: Ada hubungan (korelasi) antara akses pekerja terhadap sumber daya kesehatan mental dan kondisi kesehatan mental."
   ]
  },
  {
   "cell_type": "code",
   "execution_count": 40,
   "metadata": {},
   "outputs": [
    {
     "name": "stdout",
     "output_type": "stream",
     "text": [
      "Chi2 Statistic: 3.130762269577091\n",
      "p-value: 0.37190029737865\n",
      "Degrees of Freedom: 3\n",
      "Expected Frequencies:\n",
      "[[652.5468 653.568  636.2076 610.6776]\n",
      " [625.4532 626.432  609.7924 585.3224]]\n"
     ]
    }
   ],
   "source": [
    "# Melakukan uji Chi-Square\n",
    "chi2, p, dof, expected = chi2_contingency(contingency_table)\n",
    "\n",
    "# Menampilkan hasil\n",
    "print(f'Chi2 Statistic: {chi2}')\n",
    "print(f'p-value: {p}')\n",
    "print(f'Degrees of Freedom: {dof}')\n",
    "print(f'Expected Frequencies:\\n{expected}')"
   ]
  },
  {
   "cell_type": "markdown",
   "metadata": {},
   "source": [
    "INSIGHT:\n",
    "- Nilai Chi-Square yang dihasilkan adalah 3.13, mengindikasikan sejauh mana ada perbedaan antara frekuensi yang diamati (jumlah kasus yang sebenarnya) dan frekuensi yang diharapkan (jumlah kasus yang diharapkan jika tidak ada hubungan antara kedua variabel).\n",
    "- `p-value` yang dihasilkan adalah 0.372, yang mana jauh lebih besar dari alpha (0.05), yang menunjukkan bahwa tidak ada bukti yang cukup untuk menolak hipotesis nol. Dengan kata lain, hasil ini menunjukkan bahwa tidak ada hubungan yang signifikan antara akses ke sumber daya kesehatan mental dengan kondisi kesehatan mental."
   ]
  },
  {
   "cell_type": "markdown",
   "metadata": {},
   "source": [
    "### 4. Korelasi perubahan produktivitas berdasarkan dukungan perusahaan terhadap remote work"
   ]
  },
  {
   "cell_type": "code",
   "execution_count": 41,
   "metadata": {},
   "outputs": [
    {
     "name": "stdout",
     "output_type": "stream",
     "text": [
      "Productivity_Change              Decrease  Increase  No Change\n",
      "Company_Support_for_Remote_Work                               \n",
      "1                                     350       303        314\n",
      "2                                     319       322        344\n",
      "3                                     361       354        362\n",
      "4                                     372       295        317\n",
      "5                                     335       312        340\n"
     ]
    }
   ],
   "source": [
    "# Tabel kontingensi antara Company_Support_for_Remote_Work dan Productivity_Change\n",
    "contingency_table = pd.crosstab(df['Company_Support_for_Remote_Work'], df['Productivity_Change'])\n",
    "print(contingency_table)"
   ]
  },
  {
   "cell_type": "markdown",
   "metadata": {},
   "source": [
    "INSIGHT:\n",
    "- Tingkat 1 (dukungan sangat rendah) memiliki jumlah pekerja dengan Decrease produktivitas yang tinggi (350), menunjukkan kurangnya dukungan dapat berkontribusi pada penurunan produktivitas.\n",
    "- Tingkat 4 (dukungan tinggi) menunjukkan jumlah Decrease produktivitas yang lebih rendah (372), tetapi juga mencatat jumlah yang lebih rendah dalam Increase (295) dibandingkan dengan dukungan pada tingkat lainnya. Ini menunjukkan bahwa dukungan yang tinggi tidak selalu menjamin peningkatan produktivitas."
   ]
  },
  {
   "cell_type": "markdown",
   "metadata": {},
   "source": [
    "Hipotesis untuk uji korelasi Chi-Square:\n",
    "- H0: Tidak ada hubungan (korelasi) antara perubahan produktivitas berdasarkan dukungan perusahaan terhadap remote work.\n",
    "- H1: Ada hubungan (korelasi) antara perubahan produktivitas berdasarkan dukungan perusahaan terhadap remote work."
   ]
  },
  {
   "cell_type": "code",
   "execution_count": 42,
   "metadata": {},
   "outputs": [
    {
     "name": "stdout",
     "output_type": "stream",
     "text": [
      "Chi2 Statistic: 8.844176537516136\n",
      "p-value: 0.3556112122807402\n",
      "Degrees of Freedom: 8\n",
      "Expected Frequencies:\n",
      "[[335.9358 306.7324 324.3318]\n",
      " [342.189  312.442  330.369 ]\n",
      " [374.1498 341.6244 361.2258]\n",
      " [341.8416 312.1248 330.0336]\n",
      " [342.8838 313.0764 331.0398]]\n"
     ]
    }
   ],
   "source": [
    "# Melakukan uji Chi-Square\n",
    "chi2, p, dof, expected = chi2_contingency(contingency_table)\n",
    "\n",
    "# Menampilkan hasil\n",
    "print(f'Chi2 Statistic: {chi2}')\n",
    "print(f'p-value: {p}')\n",
    "print(f'Degrees of Freedom: {dof}')\n",
    "print(f'Expected Frequencies:\\n{expected}')"
   ]
  },
  {
   "cell_type": "markdown",
   "metadata": {},
   "source": [
    "INSIGHT:\n",
    "- Nilai Chi-Square yang dihasilkan adalah 8.844, menunjukkan seberapa besar deviasi yang diharapkan dari data yang diamati. Semakin tinggi nilai Chi-Square, semakin besar perbedaan antara distribusi yang diamati dan distribusi yang diharapkan.\n",
    "- `p-value` yang dihasilkan adalah 0.355, yang mana jauh lebih besar dari alpha (0.05), artinya tidak ada cukup bukti untuk menolak hipotesis nol. Dengan kata lain, tidak ada hubungan yang signifikan antara dukungan perusahaan untuk remote work dan perubahan produktivitas."
   ]
  },
  {
   "cell_type": "markdown",
   "metadata": {},
   "source": [
    "## C. Productivity and Satisfaction with Remote Work"
   ]
  },
  {
   "cell_type": "markdown",
   "metadata": {},
   "source": [
    "### 1. Distribusi perubahan produktivitas berhubungan dengan kepuasan dengan remote work"
   ]
  },
  {
   "cell_type": "code",
   "execution_count": 43,
   "metadata": {},
   "outputs": [
    {
     "name": "stdout",
     "output_type": "stream",
     "text": [
      "Satisfaction_with_Remote_Work  Neutral  Satisfied  Unsatisfied\n",
      "Productivity_Change                                           \n",
      "Decrease                           542        605          590\n",
      "Increase                           546        516          524\n",
      "No Change                          560        554          563\n"
     ]
    }
   ],
   "source": [
    "# Tabel kontingensi antara Productivity_Change dan Satisfaction_with_Remote_Work\n",
    "contingency_table = pd.crosstab(df['Productivity_Change'], df['Satisfaction_with_Remote_Work'])\n",
    "print(contingency_table)"
   ]
  },
  {
   "cell_type": "markdown",
   "metadata": {},
   "source": [
    "INSIGHT:\n",
    "- Terdapat 605 pekerja yang merasa Satisfied dan 590 yang merasa Unsatisfied meskipun mengalami penurunan produktivitas. Ini menunjukkan bahwa sejumlah pekerja yang mengalami penurunan produktivitas tetap merasa puas dengan remote work.\n",
    "- Pekerja yang mengalami Increase dalam produktivitas, jumlah pekerja yang Satisfied (516), lebih rendah dibandingkan yang Neutral (546) dan Unsatisfied (524). Ini bisa menunjukkan tidak semua pekerja yang produktivitasnya meningkat merasa puas dengan kondisi kerjanya, meskipun secara umum terlihat positif.\n",
    "- Pekerja yang mengalami No Change dalam produktivitas menunjukkan distribusi yang relatif seimbang di antara semua kategori kepuasan.\n"
   ]
  },
  {
   "cell_type": "code",
   "execution_count": 44,
   "metadata": {},
   "outputs": [
    {
     "data": {
      "image/png": "[encoded data removed]",
      "text/plain": [
       "<Figure size 1000x600 with 1 Axes>"
      ]
     },
     "metadata": {},
     "output_type": "display_data"
    }
   ],
   "source": [
    "# Menghitung proporsi\n",
    "proportion_table = contingency_table.div(contingency_table.sum(axis=1), axis=0)\n",
    "\n",
    "# Reset index untuk visualisasi\n",
    "proportion_table.reset_index(inplace=True)\n",
    "\n",
    "# Mengubah format data untuk seaborn\n",
    "melted_table = proportion_table.melt(id_vars='Productivity_Change', var_name='Satisfaction', value_name='Proportion')\n",
    "\n",
    "# Membuat line chart\n",
    "plt.figure(figsize=(10, 6))\n",
    "sns.lineplot(data=melted_table, x='Productivity_Change', y='Proportion', hue='Satisfaction', marker='o')\n",
    "\n",
    "plt.title('Distribusi Perubahan Produktivitas berdasarkan Kepuasan dengan Remote Work')\n",
    "plt.xlabel('Perubahan Produktivitas')\n",
    "plt.ylabel('Proporsi')\n",
    "plt.legend(title='Kepuasan dengan Remote Work')\n",
    "plt.xticks(rotation=45)\n",
    "plt.grid()\n",
    "plt.show()"
   ]
  },
  {
   "cell_type": "markdown",
   "metadata": {},
   "source": [
    "INSIGHT: Proporsi setiap kategori Kepuasan dengan Remote Work (Neutral, Satisfied, Unsatisfied) bervariasi tergantung pada jenis Perubahan Produktivitas (Decrease, Increase, No Change)."
   ]
  },
  {
   "cell_type": "markdown",
   "metadata": {},
   "source": [
    "### 2. Hubungan Gender dan Age terkait dengan kepuasan remote work"
   ]
  },
  {
   "cell_type": "code",
   "execution_count": 45,
   "metadata": {},
   "outputs": [
    {
     "data": {
      "text/plain": [
       "<Figure size 800x500 with 0 Axes>"
      ]
     },
     "metadata": {},
     "output_type": "display_data"
    },
    {
     "data": {
      "image/png": "[encoded data removed]",
      "text/plain": [
       "<Figure size 640x480 with 1 Axes>"
      ]
     },
     "metadata": {},
     "output_type": "display_data"
    }
   ],
   "source": [
    "# Menghitung tabel kontingensi untuk Gender dan Satisfaction_with_Remote_Work\n",
    "gender_satisfaction = pd.crosstab(df['Gender'], df['Satisfaction_with_Remote_Work'])\n",
    "\n",
    "# Visualisasi\n",
    "plt.figure(figsize=(8, 5))\n",
    "gender_satisfaction.plot(kind='bar', stacked=True)\n",
    "plt.title('Distribusi Gender berdasarkan Kepuasan dengan Remote Wwork')\n",
    "plt.xlabel('Gender')\n",
    "plt.ylabel('Frekuensi')\n",
    "plt.xticks(rotation=0)\n",
    "plt.legend(title='Kepuasan dengan Remote Work')\n",
    "plt.show()"
   ]
  },
  {
   "cell_type": "markdown",
   "metadata": {},
   "source": [
    "INSIGHT: Tidak adanya perbedaan besar antara pria dan wanita dalam kategori kepuasan, bisa dikatakan juga bahwa tidak ada perbedaan pengalaman atau preferensi terkait remote work berdasarkan gender."
   ]
  },
  {
   "cell_type": "code",
   "execution_count": 46,
   "metadata": {},
   "outputs": [
    {
     "name": "stdout",
     "output_type": "stream",
     "text": [
      "Satisfaction_with_Remote_Work\n",
      "Neutral        40.956311\n",
      "Satisfied      41.018507\n",
      "Unsatisfied    41.009541\n",
      "Name: Age, dtype: float64\n"
     ]
    }
   ],
   "source": [
    "# Menghitung rata-rata umur berdasarkan kepuasan\n",
    "average_age_satisfaction = df.groupby('Satisfaction_with_Remote_Work')['Age'].mean()\n",
    "print(average_age_satisfaction)"
   ]
  },
  {
   "cell_type": "markdown",
   "metadata": {},
   "source": [
    "INSIGHT: Rata-rata umur untuk kategori Neutral, Satisfied, dan Unsatisfied hampir sama, dapat dikatakan perbedaannya sangat kecil, artinya tidak ada perbedaan yang signifikan dalam rata-rata umur dengan kepuasan pekerja. Dikarenakan semua umur memiliki tingkat kepuasan yang mirip, berarti kepuasan remote work tidak bergantung pada usia pekerja."
   ]
  },
  {
   "cell_type": "markdown",
   "metadata": {},
   "source": [
    "Hipotesis Chi-Square:\n",
    "- H0: Tidak ada hubungan antara gender dan kepuasan dengan remote work.\n",
    "- H1: Ada hubungan antara gender dan kepuasan dengan remote work."
   ]
  },
  {
   "cell_type": "code",
   "execution_count": 47,
   "metadata": {},
   "outputs": [
    {
     "name": "stdout",
     "output_type": "stream",
     "text": [
      "Chi-Square: 8.102695900851636\n",
      "p-value: 0.08788792797604934\n"
     ]
    }
   ],
   "source": [
    "# Tabel kontingensi\n",
    "contingency_table_gender = pd.crosstab(df['Gender'], df['Satisfaction_with_Remote_Work'])\n",
    "\n",
    "# Uji Chi-Square\n",
    "chi2, p, dof, expected = chi2_contingency(contingency_table_gender)\n",
    "print(f'Chi-Square: {chi2}\\np-value: {p}')"
   ]
  },
  {
   "cell_type": "markdown",
   "metadata": {},
   "source": [
    "INSIGHT:\n",
    "- Nilai Chi-Square (8.102) mengukur seberapa besar perbedaan antara distribusi frekuensi yang diobservasi dengan distribusi yang diharapkan pada asumsi tidak ada hubungan antara gender dan kepuasan terhadap remote work.\n",
    "- `p-value` ini lebih besar dari alpha (biasanya 0.05), artinya tidak memiliki cukup bukti untuk menolak H0, yang mana tidak ada hubungan signifikan antara gender dan kepuasan dengan remote work."
   ]
  },
  {
   "cell_type": "markdown",
   "metadata": {},
   "source": [
    "Hipotesis:\n",
    "- H0: Rata-rata umur pekerja tidak berbeda secara signifikan di antara kelompok yang puas, netral, dan tidak puas dengan remote work.\n",
    "- H1: Rata-rata umur pekerja berbeda secara signifikan di antara kelompok-kelompok kepuasan."
   ]
  },
  {
   "cell_type": "code",
   "execution_count": 48,
   "metadata": {},
   "outputs": [
    {
     "name": "stdout",
     "output_type": "stream",
     "text": [
      "F-Statistic: 0.014676865462617554\n",
      "p-value: 0.9854303572098246\n"
     ]
    }
   ],
   "source": [
    "# Mengambil umur berdasarkan kepuasan\n",
    "satisfied_ages = df[df['Satisfaction_with_Remote_Work'] == 'Satisfied']['Age']\n",
    "neutral_ages = df[df['Satisfaction_with_Remote_Work'] == 'Neutral']['Age']\n",
    "unsatisfied_ages = df[df['Satisfaction_with_Remote_Work'] == 'Unsatisfied']['Age']\n",
    "\n",
    "# Uji ANOVA\n",
    "f_statistic, p_value = f_oneway(satisfied_ages, neutral_ages, unsatisfied_ages)\n",
    "print(f'F-Statistic: {f_statistic}\\np-value: {p_value}')"
   ]
  },
  {
   "cell_type": "markdown",
   "metadata": {},
   "source": [
    "INSIGHT:\n",
    "- Nilai F-Statistic menunjukkan seberapa besar perbedaan antara umur dibandingkan dengan variasi dalam kepuasan pekerja, yang mana semakin besar nilai F, semakin besar juga perbedaan antar variable dan sebaliknya. Nilai F yang sangat kecil ini (0.0146) menunjukkan tidak ada perbedaan signifikan dalam variasi umur antara pekerja yang puas, netral, atau tidak puas dengan remote work.\n",
    "- `p-value` yang di atas 0.05 menunjukkan tidak ada perbedaan signifikan dalam rata-rata umur di antara tiga variasi kepuasan. Dengan `p-value` sebesar 0.985, artinya tidak memiliki cukup bukti untuk menolak H0."
   ]
  },
  {
   "cell_type": "code",
   "execution_count": 49,
   "metadata": {},
   "outputs": [
    {
     "data": {
      "image/png": "[encoded data removed]",
      "text/plain": [
       "<Figure size 1000x600 with 1 Axes>"
      ]
     },
     "metadata": {},
     "output_type": "display_data"
    }
   ],
   "source": [
    "plt.figure(figsize=(10, 6))\n",
    "sns.boxplot(x='Satisfaction_with_Remote_Work', y='Age', data=df)\n",
    "plt.title('Distribusi Umur berdasarkan Kepuasan dengan Remote Work')\n",
    "plt.xlabel('Kepuasan dengan Remote Work')\n",
    "plt.ylabel('Umur')\n",
    "plt.show()"
   ]
  },
  {
   "cell_type": "markdown",
   "metadata": {},
   "source": [
    "INSIGHT:\n",
    "- Garis horizontal di dalam setiap kotak menunjukkan median umur untuk masing-masing tingkat kepuasan. Dari ketiga tingkat kepuasan, terlihat sama, ini mendukung hasil uji sebelumnya bahwa tidak ada perbedaan signifikan antara rata-rata umur dengan kepuasan.\n",
    "- Kotak dalam boxplot menunjukkan rentang umur (Q1 sampai Q3) antar kuartil (IQR).Terlihat kotak yang cukup simetris di sekitar median, ini menunjukkan distribusi umur yang normal."
   ]
  },
  {
   "cell_type": "markdown",
   "metadata": {},
   "source": [
    "# vi. Kesimpulan"
   ]
  },
  {
   "cell_type": "markdown",
   "metadata": {},
   "source": [
    "Dari hasil analisis, beberapa kesimpulan yang bisa ditarik dari Work-Life Balance, Kesehatan Mental, serta Produktivitas dan Kepuasan dalam remote work, diantaranya:\n",
    "1. Terkait Work-Life Balance dan Stress Level, distribusi Work-Life Balance Rating menunjukkan variasi di pekerja, dengan work-life balancec yang buruk biasanya diikuti dengan stres yang lebih tinggi. Meskipun terdapat beberapa perbedaan dalam tingkat stres berdasarkan jenis pekerjaan, seperti sektor Healthcare dan Finance yang cenderung lebih rentan terhadap stres tinggi, analisis tidak menemukan perbedaan signifikan dalam Work-Life Balance Rating berdasarkan lokasi kerja. Selain itu, jam kerja per minggu memiliki hubungan yang sangat lemah dengan tingkat stres pekerja, mengindikasikan bahwa jam kerja bukanlah faktor utama yang mempengaruhi stres.\n",
    "\n",
    "2. Dalam hal Kesehatan Mental dan Dukungan Perusahaan, distribusi kondisi kesehatan mental seperti Anxiety, Burnout, dan Depression bervariasi di berbagai industri, dengan industri Healthcare dan Finance menampilkan tingkat kondisi mental yang lebih tinggi. Meskipun akses terhadap sumber daya kesehatan mental lebih mudah di beberapa industri seperti Finance dan IT, tetapi tidak ditemukannya hubungan yang signifikan antara akses terhadap sumber daya kesehatan mental dengan kondisi kesehatan mental pekerja berdasarkan uji Chi-Square yang telah dilakukan. Selain itu, dukungan perusahaan terhadap remote work tidak menunjukkan dampak signifikan adanya perubahan produktivitas pekerja.\n",
    "\n",
    "3. Terkait Produktivitas dan Kepuasan dengan Remote Work, pekerja yang melaporkan peningkatan produktivitas cenderung lebih puas dengan remote work, sementara mereka yang mengalami penurunan produktivitas lebih cenderung tidak puas. Walaupun begitu, analisis menunjukkan faktor demografi seperti gender dan usia tidak memiliki pengaruh signifikan terhadap kepuasan dalam remote work. Uji Chi-Square menunjukkan bahwa tidak ada hubungan signifikan antara gender dan kepuasan, sementara rata-rata usia pekerja yang puas, netral, dan tidak puas hampir sama.\n",
    "\n",
    "Secara keseluruhan, hasil ini menunjukkan bahwa untuk meningkatkan kepuasan kerja dan kesejahteraan mental pekerja, perusahaan perlu fokus pada program dukungan yang lebih personal dan relevan dengan kebutuhan pekerja, serta memberikan fleksibilitas dalam manajemen work-load dan work-life balance antara pekerjaan dengan kehidupan pribadi."
   ]
  }
 ],
 "metadata": {
  "kernelspec": {
   "display_name": "base",
   "language": "python",
   "name": "python3"
  },
  "language_info": {
   "codemirror_mode": {
    "name": "ipython",
    "version": 3
   },
   "file_extension": ".py",
   "mimetype": "text/x-python",
   "name": "python",
   "nbconvert_exporter": "python",
   "pygments_lexer": "ipython3",
   "version": "3.12.3"
  }
 },
 "nbformat": 4,
 "nbformat_minor": 2
}
